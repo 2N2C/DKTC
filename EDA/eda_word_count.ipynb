{
 "cells": [
  {
   "cell_type": "code",
   "execution_count": 1,
   "id": "c4336656",
   "metadata": {},
   "outputs": [
    {
     "data": {
      "text/html": [
       "<div>\n",
       "<style scoped>\n",
       "    .dataframe tbody tr th:only-of-type {\n",
       "        vertical-align: middle;\n",
       "    }\n",
       "\n",
       "    .dataframe tbody tr th {\n",
       "        vertical-align: top;\n",
       "    }\n",
       "\n",
       "    .dataframe thead th {\n",
       "        text-align: right;\n",
       "    }\n",
       "</style>\n",
       "<table border=\"1\" class=\"dataframe\">\n",
       "  <thead>\n",
       "    <tr style=\"text-align: right;\">\n",
       "      <th></th>\n",
       "      <th>idx</th>\n",
       "      <th>class</th>\n",
       "      <th>conversation</th>\n",
       "    </tr>\n",
       "  </thead>\n",
       "  <tbody>\n",
       "    <tr>\n",
       "      <th>0</th>\n",
       "      <td>0</td>\n",
       "      <td>협박 대화</td>\n",
       "      <td>지금 너 스스로를 죽여달라고 애원하는 것인가?\\n 아닙니다. 죄송합니다.\\n 죽을 ...</td>\n",
       "    </tr>\n",
       "    <tr>\n",
       "      <th>1</th>\n",
       "      <td>1</td>\n",
       "      <td>협박 대화</td>\n",
       "      <td>길동경찰서입니다.\\n9시 40분 마트에 폭발물을 설치할거다.\\n네?\\n똑바로 들어 ...</td>\n",
       "    </tr>\n",
       "    <tr>\n",
       "      <th>2</th>\n",
       "      <td>2</td>\n",
       "      <td>기타 괴롭힘 대화</td>\n",
       "      <td>너 되게 귀여운거 알지? 나보다 작은 남자는 첨봤어.\\n그만해. 니들 놀리는거 재미...</td>\n",
       "    </tr>\n",
       "    <tr>\n",
       "      <th>3</th>\n",
       "      <td>3</td>\n",
       "      <td>갈취 대화</td>\n",
       "      <td>어이 거기\\n예??\\n너 말이야 너. 이리 오라고\\n무슨 일.\\n너 옷 좋아보인다?...</td>\n",
       "    </tr>\n",
       "    <tr>\n",
       "      <th>4</th>\n",
       "      <td>4</td>\n",
       "      <td>갈취 대화</td>\n",
       "      <td>저기요 혹시 날이 너무 뜨겁잖아요? 저희 회사에서 이 선크림 파는데 한 번 손등에 ...</td>\n",
       "    </tr>\n",
       "  </tbody>\n",
       "</table>\n",
       "</div>"
      ],
      "text/plain": [
       "   idx      class                                       conversation\n",
       "0    0      협박 대화  지금 너 스스로를 죽여달라고 애원하는 것인가?\\n 아닙니다. 죄송합니다.\\n 죽을 ...\n",
       "1    1      협박 대화  길동경찰서입니다.\\n9시 40분 마트에 폭발물을 설치할거다.\\n네?\\n똑바로 들어 ...\n",
       "2    2  기타 괴롭힘 대화  너 되게 귀여운거 알지? 나보다 작은 남자는 첨봤어.\\n그만해. 니들 놀리는거 재미...\n",
       "3    3      갈취 대화  어이 거기\\n예??\\n너 말이야 너. 이리 오라고\\n무슨 일.\\n너 옷 좋아보인다?...\n",
       "4    4      갈취 대화  저기요 혹시 날이 너무 뜨겁잖아요? 저희 회사에서 이 선크림 파는데 한 번 손등에 ..."
      ]
     },
     "execution_count": 1,
     "metadata": {},
     "output_type": "execute_result"
    }
   ],
   "source": [
    "import os\n",
    "import pandas as pd\n",
    "import re\n",
    "\n",
    "train_data_path =\"train.csv\"\n",
    "train_data = pd.read_csv(train_data_path)\n",
    "train_data.head()"
   ]
  },
  {
   "cell_type": "code",
   "execution_count": 2,
   "id": "d6d54557",
   "metadata": {},
   "outputs": [],
   "source": [
    "# 한국어 형태소 분석기\n",
    "from konlpy.tag import Okt\n",
    "\n",
    "okt = Okt()"
   ]
  },
  {
   "cell_type": "code",
   "execution_count": 3,
   "id": "d16f7dd9",
   "metadata": {},
   "outputs": [],
   "source": [
    "# 문장 단위 텍스트 전처리\n",
    "def preprocess_sentence(sentence):\n",
    "    # 소문자 변환\n",
    "    sentence = sentence.lower()\n",
    "\n",
    "    # 문장 부호 제거\n",
    "    #sentence = re.sub(r\"([?.!,\\n])\", \"\", sentence)\n",
    "\n",
    "    # 줄바꿈 문자를 문장 종료 태그 변환\n",
    "    #sentence = re.sub(r'[\\n]', \"<eos>\", sentence)\n",
    "\n",
    "    # 문장 부호 간 띄어쓰기\n",
    "    #sentence = re.sub(r\"([?.!,])\", r\" \\1 \", sentence)\n",
    "    \n",
    "    # 숫자 간 띄어쓰기\n",
    "    #sentence = re.sub(r\"([0-9]+)\", r\" \\1 \", sentence)\n",
    "    \n",
    "    # 알파벳 한글 간 띄어쓰기\n",
    "    #sentence = re.sub(r\"([a-zA-Z]+)\", r\" \\1 \", sentence)\n",
    "\n",
    "    # 알파벳, 한글, 숫자, 문장부호를 제외한 모든 문자를 공백으로 대체\n",
    "    #sentence = re.sub(\"[^a-zA-Z0-9가-힣.?!,]\", \" \", sentence)\n",
    "\n",
    "    # 빈 칸 반복되는 것 하나로 줄이기\n",
    "    sentence = re.sub(r'[\" \"]+', \" \", sentence)\n",
    "\n",
    "    # 문장 앞 뒤 공백 자르기\n",
    "    sentence = sentence.strip()\n",
    "\n",
    "    return sentence"
   ]
  },
  {
   "cell_type": "code",
   "execution_count": 4,
   "id": "99ea65e8",
   "metadata": {},
   "outputs": [],
   "source": [
    "# 데이터셋 단위 전처리\n",
    "def preprocess_data(data):\n",
    "    res = []\n",
    "    for conversation in data['conversation']:\n",
    "        res.append(preprocess_sentence(conversation))\n",
    "\n",
    "    return res"
   ]
  },
  {
   "cell_type": "code",
   "execution_count": 5,
   "id": "6539be2b",
   "metadata": {},
   "outputs": [],
   "source": [
    "# 형태소 분리 토큰화\n",
    "def tokenize(conversations):  \n",
    "    tokens = []\n",
    "    for conversation in conversations:\n",
    "        # 문장 단위로 분리\n",
    "        sentences = conversation.split('\\n')\n",
    "        token_sentence = []\n",
    "        for sentence in sentences:\n",
    "            # 문장 별로 형태소 분석 후 배열에 추가\n",
    "            for element in okt.pos(sentence):\n",
    "                token_sentence.append(element)\n",
    "        tokens.append(token_sentence)\n",
    "    return tokens"
   ]
  },
  {
   "cell_type": "code",
   "execution_count": 12,
   "id": "e3792324",
   "metadata": {},
   "outputs": [
    {
     "name": "stdout",
     "output_type": "stream",
     "text": [
      "3950\n"
     ]
    }
   ],
   "source": [
    "tokenized_conversation = tokenize(train_data['conversation'])\n",
    "print(len(tokenized_conversation))"
   ]
  },
  {
   "cell_type": "code",
   "execution_count": 8,
   "id": "8e5d4322",
   "metadata": {},
   "outputs": [
    {
     "name": "stdout",
     "output_type": "stream",
     "text": [
      "토큰화된 문장의 최대 길이: 348\n"
     ]
    }
   ],
   "source": [
    "# 최대 길이 구하기\n",
    "max_length = 0\n",
    "len_tokens = []\n",
    "for t in tokenized_conversation:\n",
    "    if (len(t) > max_length):\n",
    "        max_length = len(t)\n",
    "    len_tokens.append(len(t))\n",
    "\n",
    "print(f'토큰화된 문장의 최대 길이: {max_length}')"
   ]
  },
  {
   "cell_type": "code",
   "execution_count": 9,
   "id": "422a45ea",
   "metadata": {},
   "outputs": [
    {
     "name": "stdout",
     "output_type": "stream",
     "text": [
      "[('엄마', 'Noun'), ('나도', 'Verb'), ('바람막이', 'Noun'), ('하나', 'Noun'), ('사줘', 'Verb'), ('바람막이', 'Noun'), ('한', 'Verb'), ('삼만원', 'Noun'), ('이', 'Suffix'), ('면', 'Josa'), ('되니', 'Verb'), ('?', 'Punctuation'), ('무슨', 'Noun'), ('삼만원', 'Noun'), ('이야', 'Josa'), ('엄마', 'Noun'), ('는', 'Josa'), ('도데', 'Noun'), ('체', 'Noun'), ('언', 'Modifier'), ('제적', 'Noun'), ('이야기', 'Noun'), ('를', 'Josa'), ('하는거야', 'Verb'), ('엄마', 'Noun'), ('랑', 'Josa'), ('이야기', 'Noun'), ('싫다고', 'Adjective'), ('자꾸', 'Noun'), ('이러니까', 'Conjunction'), ('미안하다', 'Adjective'), ('.', 'Punctuation'), ('엄마', 'Noun'), ('가', 'Josa'), ('잘', 'Verb'), ('몰라서', 'Verb'), ('그래', 'Adjective'), ('아', 'Exclamation'), ('30', 'Number'), ('은', 'Noun'), ('줘야', 'Verb'), ('입을만한', 'Adjective'), ('거', 'Noun'), ('사', 'Noun'), ('30', 'Number'), ('이나', 'Noun'), ('?', 'Punctuation'), ('이번', 'Noun'), ('달', 'Noun'), ('아빠', 'Noun'), ('월급', 'Noun'), ('이', 'Josa'), ('조금', 'Noun'), ('밖에', 'Josa'), ('안', 'VerbPrefix'), ('들어왔는데', 'Verb'), ('다음', 'Noun'), ('달', 'Noun'), ('에', 'Josa'), ('사주면', 'Noun'), ('안될까', 'Adjective'), ('?', 'Punctuation'), ('아', 'Exclamation'), ('진짜', 'Noun'), ('짜증나고', 'Adjective'), ('구질구질하게', 'Adjective'), ('미안해', 'Adjective'), ('아들', 'Noun'), ('미안해하지말고', 'Adjective'), ('엄마', 'Noun'), ('손', 'Noun'), ('에', 'Josa'), ('끼', 'Noun'), ('고', 'Josa'), ('있는', 'Adjective'), ('반지', 'Noun'), ('라도', 'Josa'), ('줘', 'Verb'), ('봐', 'Verb'), ('이', 'Determiner'), ('거', 'Noun'), ('는', 'Josa'), ('외할머니', 'Noun'), ('가', 'Josa'), ('엄마', 'Noun'), ('주신거야', 'Verb'), ('아들', 'Noun'), ('엄마', 'Noun'), ('외할머니', 'Noun'), ('는', 'Josa'), ('돌아가신지', 'Verb'), ('20년', 'Number'), ('됐고', 'Foreign'), ('이제', 'Noun'), ('는', 'Josa'), ('산', 'Noun'), ('사람', 'Noun'), ('보고', 'Noun'), ('살아야지', 'Verb'), ('언제', 'Noun'), ('까지', 'Josa'), ('붙잡고', 'Verb'), ('있을거야', 'Adjective'), ('그거', 'Noun'), ('안주', 'Noun'), ('며', 'Josa'), ('나', 'Noun'), ('콱', 'Noun'), ('차도', 'Noun'), ('에', 'Josa'), ('뛰어든다', 'Verb'), ('그러면', 'Adverb'), ('좋겠어', 'Adjective'), ('?', 'Punctuation'), ('엄마', 'Noun'), ('가', 'Josa'), ('외할머니', 'Noun'), ('반지', 'Noun'), ('애', 'Noun'), ('끼다가', 'Verb'), ('내', 'Noun'), ('가', 'Josa'), ('골로', 'Noun'), ('갔으면', 'Verb'), ('좋겠냐고', 'Adjective'), ('여기있어', 'Verb'), ('아들', 'Noun'), ('이제', 'Noun'), ('그런', 'Adjective'), ('말', 'Noun'), ('하지마', 'Verb')]\n"
     ]
    }
   ],
   "source": [
    "print(tokenized_conversation[123])"
   ]
  },
  {
   "cell_type": "code",
   "execution_count": 10,
   "id": "42617dd5",
   "metadata": {},
   "outputs": [],
   "source": [
    "# 클래스를 숫자로 변환\n",
    "#class 0; 협박 대화\n",
    "#class 1; 갈취 대화\n",
    "#class 2; 직장 내 괴롭힘 대화\n",
    "#class 3; 기타 괴롭힘 대화\n",
    "class_label = {'협박 대화': 0, '갈취 대화': 1, '직장 내 괴롭힘 대화': 2, '기타 괴롭힘 대화': 3, '일반 대화': 4}\n",
    "\n",
    "def class_to_number(conversation):\n",
    "    res = []\n",
    "    for element in conversation:\n",
    "        res.append(class_label[element])\n",
    "    return res "
   ]
  },
  {
   "cell_type": "code",
   "execution_count": 11,
   "id": "06e722c7",
   "metadata": {},
   "outputs": [
    {
     "name": "stdout",
     "output_type": "stream",
     "text": [
      "3950\n"
     ]
    }
   ],
   "source": [
    "labeled_conversation = class_to_number(train_data['class'])\n",
    "print(len(labeled_conversation))"
   ]
  },
  {
   "cell_type": "code",
   "execution_count": 13,
   "id": "75fa031f",
   "metadata": {},
   "outputs": [],
   "source": [
    "CLASS_NUM = 5\n",
    "word_counter = []\n",
    "for i in range(CLASS_NUM):\n",
    "    word_counter.append({})\n",
    "\n",
    "for label, tokens in zip(labeled_conversation, tokenized_conversation):\n",
    "    for token in tokens:\n",
    "        # 조사와 문장부호, 길이기 1인 단어 삭제\n",
    "        if token[1] == \"Josa\" or token[1] == \"Punctuation\" or len(token[0]) == 1:\n",
    "            continue\n",
    "        # 나머지 품사에 대해 통계\n",
    "        if token[0] in word_counter[label]:\n",
    "            word_counter[label][token[0]] += 1\n",
    "        else:\n",
    "            word_counter[label][token[0]] = 1"
   ]
  },
  {
   "cell_type": "code",
   "execution_count": 14,
   "id": "75c9c33a",
   "metadata": {},
   "outputs": [
    {
     "name": "stdout",
     "output_type": "stream",
     "text": [
      "class: 0 - 협박 대화\n",
      "제발\n",
      "지금\n",
      "진짜\n",
      "우리\n",
      "사람\n",
      "그래\n",
      "무슨\n",
      "그냥\n",
      "죽여\n",
      "죄송합니다\n",
      "아니\n",
      "그럼\n",
      "class: 1 - 갈취 대화\n",
      "진짜\n",
      "그럼\n",
      "아니\n",
      "지금\n",
      "그래\n",
      "없어\n",
      "내놔\n",
      "그냥\n",
      "제발\n",
      "무슨\n",
      "없어요\n",
      "우리\n",
      "class: 2 - 직장 내 괴롭힘 대화\n",
      "죄송합니다\n",
      "대리\n",
      "회사\n",
      "아니\n",
      "지금\n",
      "오늘\n",
      "부장\n",
      "무슨\n",
      "그럼\n",
      "사람\n",
      "우리\n",
      "그래\n",
      "class: 3 - 기타 괴롭힘 대화\n",
      "진짜\n",
      "아니\n",
      "그래\n",
      "우리\n",
      "그냥\n",
      "무슨\n",
      "지금\n",
      "그렇게\n",
      "아니야\n",
      "사람\n",
      "죄송합니다\n",
      "너무\n",
      "class: 4 - 일반 대화\n"
     ]
    }
   ],
   "source": [
    "# 클래스별 많이 나오는 단어 TOP 10\n",
    "class_label_inverted = {0: '협박 대화',1: '갈취 대화',2: '직장 내 괴롭힘 대화', 3: '기타 괴롭힘 대화',4: '일반 대화'}\n",
    "\n",
    "for i in range(CLASS_NUM):\n",
    "    print(f'class: {i} - {class_label_inverted[i]}')\n",
    "    sorted_dic = sorted(word_counter[i], key=lambda x: word_counter[i][x], reverse=True)\n",
    "    for index, data in enumerate(sorted_dic):\n",
    "        print(data)\n",
    "        if index > 10:\n",
    "            break"
   ]
  }
 ],
 "metadata": {
  "kernelspec": {
   "display_name": "Python 3 (ipykernel)",
   "language": "python",
   "name": "python3"
  },
  "language_info": {
   "codemirror_mode": {
    "name": "ipython",
    "version": 3
   },
   "file_extension": ".py",
   "mimetype": "text/x-python",
   "name": "python",
   "nbconvert_exporter": "python",
   "pygments_lexer": "ipython3",
   "version": "3.9.7"
  }
 },
 "nbformat": 4,
 "nbformat_minor": 5
}
