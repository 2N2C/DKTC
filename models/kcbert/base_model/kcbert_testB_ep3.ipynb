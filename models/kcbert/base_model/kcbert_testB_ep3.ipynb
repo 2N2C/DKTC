{
 "cells": [
  {
   "cell_type": "code",
   "execution_count": 1,
   "id": "3723cfa2",
   "metadata": {},
   "outputs": [],
   "source": [
    "import tensorflow as tf"
   ]
  },
  {
   "cell_type": "code",
   "execution_count": 2,
   "id": "a323b6cf",
   "metadata": {
    "scrolled": false
   },
   "outputs": [
    {
     "name": "stdout",
     "output_type": "stream",
     "text": [
      "Reading package lists... Done\n",
      "Building dependency tree       \n",
      "Reading state information... Done\n",
      "The following packages were automatically installed and are no longer required:\n",
      "  accountsservice-ubuntu-schemas bc bluez-obexd cups cups-browsed cups-client\n",
      "  cups-common cups-core-drivers cups-daemon cups-filters\n",
      "  cups-filters-core-drivers cups-ipp-utils cups-ppdc cups-server-common\n",
      "  fonts-droid-fallback fonts-noto-mono fonts-urw-base35 ghostscript\n",
      "  gir1.2-dbusmenu-glib-0.4 gnome-bluetooth gnome-power-manager\n",
      "  gnome-screensaver gsettings-ubuntu-schemas gvfs-backends indicator-applet\n",
      "  indicator-application indicator-appmenu indicator-bluetooth indicator-common\n",
      "  indicator-datetime indicator-keyboard indicator-messages indicator-power\n",
      "  indicator-printers indicator-session indicator-sound jayatana\n",
      "  libaccounts-glib0 libbamf3-2 libcdio-cdda2 libcdio-paranoia2 libcdio18\n",
      "  libcupsfilters1 libfcitx-config4 libfcitx-gclient1 libfcitx-utils0\n",
      "  libfontembed1 libgnome-panel0 libgs9 libgs9-common libido3-0.1-0 libijs-0.35\n",
      "  libindicator3-7 libjbig2dec0 liblightdm-gobject-1-0 liblouis-data liblouis20\n",
      "  liblouisutdml-bin liblouisutdml-data liblouisutdml9 libmessaging-menu0\n",
      "  libmtp-common libmtp-runtime libmtp9 libnfs13 libpaper-utils libpaper1\n",
      "  libpoppler-cpp0v5 libqpdf26 libunity-gtk2-parser0 libunity-gtk3-parser0\n",
      "  libunity-settings-daemon1 liburl-dispatcher1 lightdm nautilus-data\n",
      "  poppler-utils python3-psutil python3-xdg ssl-cert ubuntu-touch-sounds\n",
      "  unity-greeter unity-gtk-module-common unity-gtk2-module unity-gtk3-module\n",
      "  unity-settings-daemon unity-settings-daemon-schemas\n",
      "Use 'sudo apt autoremove' to remove them.\n",
      "The following NEW packages will be installed:\n",
      "  libtinfo5\n",
      "0 upgraded, 1 newly installed, 0 to remove and 0 not upgraded.\n",
      "Need to get 83.0 kB of archives.\n",
      "After this operation, 535 kB of additional disk space will be used.\n",
      "Get:1 http://archive.ubuntu.com/ubuntu focal/universe amd64 libtinfo5 amd64 6.2-0ubuntu2 [83.0 kB]\n",
      "Fetched 83.0 kB in 1s (140 kB/s)     \n",
      "debconf: unable to initialize frontend: Dialog\n",
      "debconf: (No usable dialog-like program is installed, so the dialog based frontend cannot be used. at /usr/share/perl5/Debconf/FrontEnd/Dialog.pm line 76, <> line 1.)\n",
      "debconf: falling back to frontend: Readline\n",
      "Selecting previously unselected package libtinfo5:amd64.\n",
      "(Reading database ... 89804 files and directories currently installed.)\n",
      "Preparing to unpack .../libtinfo5_6.2-0ubuntu2_amd64.deb ...\n",
      "Unpacking libtinfo5:amd64 (6.2-0ubuntu2) ...\n",
      "Setting up libtinfo5:amd64 (6.2-0ubuntu2) ...\n",
      "Processing triggers for libc-bin (2.31-0ubuntu9.2) ...\n",
      "Looking in indexes: https://download.pytorch.org/whl/cu118\n",
      "Requirement already satisfied: torch in /opt/conda/lib/python3.9/site-packages (1.9.1+cu111)\n",
      "Requirement already satisfied: torchvision in /opt/conda/lib/python3.9/site-packages (0.10.1+cu111)\n",
      "Requirement already satisfied: torchaudio in /opt/conda/lib/python3.9/site-packages (0.9.1)\n",
      "Requirement already satisfied: typing-extensions in /opt/conda/lib/python3.9/site-packages (from torch) (4.0.1)\n",
      "Requirement already satisfied: numpy in /opt/conda/lib/python3.9/site-packages (from torchvision) (1.21.4)\n",
      "Requirement already satisfied: pillow>=5.3.0 in /opt/conda/lib/python3.9/site-packages (from torchvision) (8.3.2)\n",
      "\u001b[33mWARNING: Running pip as the 'root' user can result in broken permissions and conflicting behaviour with the system package manager. It is recommended to use a virtual environment instead: https://pip.pypa.io/warnings/venv\u001b[0m\n"
     ]
    }
   ],
   "source": [
    "!sudo apt-get install libtinfo5\n",
    "!pip3 install torch torchvision torchaudio --index-url https://download.pytorch.org/whl/cu118"
   ]
  },
  {
   "cell_type": "code",
   "execution_count": 3,
   "id": "8375297a",
   "metadata": {},
   "outputs": [],
   "source": [
    "from transformers import AutoTokenizer, AutoModel, AutoModelForQuestionAnswering\n",
    "from tensorflow.keras.layers import Input, Dense, Dropout\n",
    "from tensorflow.keras.models import Model\n",
    "from tensorflow.keras.optimizers import Adam\n",
    "from torch.utils.data import DataLoader, Dataset\n",
    "import pandas as pd\n",
    "import numpy as np\n",
    "from sklearn.model_selection import train_test_split\n",
    "from tensorflow.keras.optimizers.schedules import CosineDecay\n",
    "from tensorflow.keras.callbacks import ModelCheckpoint, EarlyStopping, ReduceLROnPlateau"
   ]
  },
  {
   "cell_type": "code",
   "execution_count": 4,
   "id": "a4c33c2e",
   "metadata": {},
   "outputs": [],
   "source": [
    "#train_data = pd.read_csv('data/advanced_general_conversation_test_B.csv')\n",
    "#train_data = pd.read_csv('advanced_general_conversation_test_B.csv')\n",
    "train_data = pd.read_csv('advanced_general_conversation_testB_enlarged.csv')\n",
    "test_data = pd.read_csv('test.csv')"
   ]
  },
  {
   "cell_type": "code",
   "execution_count": 5,
   "id": "4ab099f1",
   "metadata": {
    "scrolled": true
   },
   "outputs": [
    {
     "data": {
      "text/html": [
       "<div>\n",
       "<style scoped>\n",
       "    .dataframe tbody tr th:only-of-type {\n",
       "        vertical-align: middle;\n",
       "    }\n",
       "\n",
       "    .dataframe tbody tr th {\n",
       "        vertical-align: top;\n",
       "    }\n",
       "\n",
       "    .dataframe thead th {\n",
       "        text-align: right;\n",
       "    }\n",
       "</style>\n",
       "<table border=\"1\" class=\"dataframe\">\n",
       "  <thead>\n",
       "    <tr style=\"text-align: right;\">\n",
       "      <th></th>\n",
       "      <th>idx</th>\n",
       "      <th>class</th>\n",
       "      <th>conversation</th>\n",
       "    </tr>\n",
       "  </thead>\n",
       "  <tbody>\n",
       "    <tr>\n",
       "      <th>0</th>\n",
       "      <td>0</td>\n",
       "      <td>협박 대화</td>\n",
       "      <td>지금 너 스스로를 죽여달라고 애원하는 것인가?\\n 아닙니다. 죄송합니다.\\n 죽을 ...</td>\n",
       "    </tr>\n",
       "    <tr>\n",
       "      <th>1</th>\n",
       "      <td>1</td>\n",
       "      <td>협박 대화</td>\n",
       "      <td>길동경찰서입니다.\\n9시 40분 마트에 폭발물을 설치할거다.\\n네?\\n똑바로 들어 ...</td>\n",
       "    </tr>\n",
       "    <tr>\n",
       "      <th>2</th>\n",
       "      <td>2</td>\n",
       "      <td>기타 괴롭힘 대화</td>\n",
       "      <td>너 되게 귀여운거 알지? 나보다 작은 남자는 첨봤어.\\n그만해. 니들 놀리는거 재미...</td>\n",
       "    </tr>\n",
       "    <tr>\n",
       "      <th>3</th>\n",
       "      <td>3</td>\n",
       "      <td>갈취 대화</td>\n",
       "      <td>어이 거기\\n예??\\n너 말이야 너. 이리 오라고\\n무슨 일.\\n너 옷 좋아보인다?...</td>\n",
       "    </tr>\n",
       "    <tr>\n",
       "      <th>4</th>\n",
       "      <td>4</td>\n",
       "      <td>갈취 대화</td>\n",
       "      <td>저기요 혹시 날이 너무 뜨겁잖아요? 저희 회사에서 이 선크림 파는데 한 번 손등에 ...</td>\n",
       "    </tr>\n",
       "    <tr>\n",
       "      <th>...</th>\n",
       "      <td>...</td>\n",
       "      <td>...</td>\n",
       "      <td>...</td>\n",
       "    </tr>\n",
       "    <tr>\n",
       "      <th>5528</th>\n",
       "      <td>5528</td>\n",
       "      <td>일반 대화</td>\n",
       "      <td>진짜 오늘 날씨 너무 덥지 않니?\\n 맞아 진짜 더워. 오늘 밖에 나가기가 싫어....</td>\n",
       "    </tr>\n",
       "    <tr>\n",
       "      <th>5529</th>\n",
       "      <td>5529</td>\n",
       "      <td>일반 대화</td>\n",
       "      <td>진짜 오늘 날씨 너무 좋지 않니?\\n 그래 정말 좋아. 우리 오늘 주말에 뭐할까?...</td>\n",
       "    </tr>\n",
       "    <tr>\n",
       "      <th>5530</th>\n",
       "      <td>5530</td>\n",
       "      <td>일반 대화</td>\n",
       "      <td>제발 내 말 좀 들어봐. 지금 우리 진짜 심각한 상황에 처했어.\\n 무슨 일인데 ...</td>\n",
       "    </tr>\n",
       "    <tr>\n",
       "      <th>5531</th>\n",
       "      <td>5531</td>\n",
       "      <td>일반 대화</td>\n",
       "      <td>진짜 지금 당장 우리 그냥 만나서 얘기 좀 해보자.\\n 무슨 일인데 그래?\\n 관...</td>\n",
       "    </tr>\n",
       "    <tr>\n",
       "      <th>5532</th>\n",
       "      <td>5532</td>\n",
       "      <td>일반 대화</td>\n",
       "      <td>오늘 날씨 진짜 좋지 않니?\\n 응 우리랑 놀기 참 좋은 날씨야.\\n 근데 제발 ...</td>\n",
       "    </tr>\n",
       "  </tbody>\n",
       "</table>\n",
       "<p>5533 rows × 3 columns</p>\n",
       "</div>"
      ],
      "text/plain": [
       "       idx      class                                       conversation\n",
       "0        0      협박 대화  지금 너 스스로를 죽여달라고 애원하는 것인가?\\n 아닙니다. 죄송합니다.\\n 죽을 ...\n",
       "1        1      협박 대화  길동경찰서입니다.\\n9시 40분 마트에 폭발물을 설치할거다.\\n네?\\n똑바로 들어 ...\n",
       "2        2  기타 괴롭힘 대화  너 되게 귀여운거 알지? 나보다 작은 남자는 첨봤어.\\n그만해. 니들 놀리는거 재미...\n",
       "3        3      갈취 대화  어이 거기\\n예??\\n너 말이야 너. 이리 오라고\\n무슨 일.\\n너 옷 좋아보인다?...\n",
       "4        4      갈취 대화  저기요 혹시 날이 너무 뜨겁잖아요? 저희 회사에서 이 선크림 파는데 한 번 손등에 ...\n",
       "...    ...        ...                                                ...\n",
       "5528  5528      일반 대화   진짜 오늘 날씨 너무 덥지 않니?\\n 맞아 진짜 더워. 오늘 밖에 나가기가 싫어....\n",
       "5529  5529      일반 대화   진짜 오늘 날씨 너무 좋지 않니?\\n 그래 정말 좋아. 우리 오늘 주말에 뭐할까?...\n",
       "5530  5530      일반 대화   제발 내 말 좀 들어봐. 지금 우리 진짜 심각한 상황에 처했어.\\n 무슨 일인데 ...\n",
       "5531  5531      일반 대화   진짜 지금 당장 우리 그냥 만나서 얘기 좀 해보자.\\n 무슨 일인데 그래?\\n 관...\n",
       "5532  5532      일반 대화   오늘 날씨 진짜 좋지 않니?\\n 응 우리랑 놀기 참 좋은 날씨야.\\n 근데 제발 ...\n",
       "\n",
       "[5533 rows x 3 columns]"
      ]
     },
     "execution_count": 5,
     "metadata": {},
     "output_type": "execute_result"
    }
   ],
   "source": [
    "train_data"
   ]
  },
  {
   "cell_type": "code",
   "execution_count": 6,
   "id": "842df01a",
   "metadata": {},
   "outputs": [
    {
     "data": {
      "text/plain": [
       "array(['협박 대화', '기타 괴롭힘 대화', '갈취 대화', '직장 내 괴롭힘 대화', '일반 대화'],\n",
       "      dtype=object)"
      ]
     },
     "execution_count": 6,
     "metadata": {},
     "output_type": "execute_result"
    }
   ],
   "source": [
    "train_data['class'].unique()"
   ]
  },
  {
   "cell_type": "code",
   "execution_count": 7,
   "id": "19aa70e0",
   "metadata": {},
   "outputs": [],
   "source": [
    "label = {'협박 대화' : 0, '갈취 대화' : 1, '직장 내 괴롭힘 대화' :2, '기타 괴롭힘 대화' : 3, '일반 대화' : 4}"
   ]
  },
  {
   "cell_type": "code",
   "execution_count": 8,
   "id": "2d6e3678",
   "metadata": {},
   "outputs": [],
   "source": [
    "train_data['int_class'] = train_data['class'].map(label)"
   ]
  },
  {
   "cell_type": "code",
   "execution_count": 9,
   "id": "512ded76",
   "metadata": {},
   "outputs": [],
   "source": [
    "import re\n",
    "train_data['conversation'] = train_data['conversation'].apply(lambda x: re.sub(r'[\\n…]', '', x))"
   ]
  },
  {
   "cell_type": "code",
   "execution_count": 10,
   "id": "1496ce04",
   "metadata": {},
   "outputs": [
    {
     "data": {
      "text/html": [
       "<div>\n",
       "<style scoped>\n",
       "    .dataframe tbody tr th:only-of-type {\n",
       "        vertical-align: middle;\n",
       "    }\n",
       "\n",
       "    .dataframe tbody tr th {\n",
       "        vertical-align: top;\n",
       "    }\n",
       "\n",
       "    .dataframe thead th {\n",
       "        text-align: right;\n",
       "    }\n",
       "</style>\n",
       "<table border=\"1\" class=\"dataframe\">\n",
       "  <thead>\n",
       "    <tr style=\"text-align: right;\">\n",
       "      <th></th>\n",
       "      <th>idx</th>\n",
       "      <th>class</th>\n",
       "      <th>conversation</th>\n",
       "      <th>int_class</th>\n",
       "    </tr>\n",
       "  </thead>\n",
       "  <tbody>\n",
       "    <tr>\n",
       "      <th>0</th>\n",
       "      <td>0</td>\n",
       "      <td>협박 대화</td>\n",
       "      <td>지금 너 스스로를 죽여달라고 애원하는 것인가? 아닙니다. 죄송합니다. 죽을 거면 혼...</td>\n",
       "      <td>0</td>\n",
       "    </tr>\n",
       "    <tr>\n",
       "      <th>1</th>\n",
       "      <td>1</td>\n",
       "      <td>협박 대화</td>\n",
       "      <td>길동경찰서입니다.9시 40분 마트에 폭발물을 설치할거다.네?똑바로 들어 한번만 더 ...</td>\n",
       "      <td>0</td>\n",
       "    </tr>\n",
       "    <tr>\n",
       "      <th>2</th>\n",
       "      <td>2</td>\n",
       "      <td>기타 괴롭힘 대화</td>\n",
       "      <td>너 되게 귀여운거 알지? 나보다 작은 남자는 첨봤어.그만해. 니들 놀리는거 재미없어...</td>\n",
       "      <td>3</td>\n",
       "    </tr>\n",
       "    <tr>\n",
       "      <th>3</th>\n",
       "      <td>3</td>\n",
       "      <td>갈취 대화</td>\n",
       "      <td>어이 거기예??너 말이야 너. 이리 오라고무슨 일.너 옷 좋아보인다?얘 돈 좀 있나...</td>\n",
       "      <td>1</td>\n",
       "    </tr>\n",
       "    <tr>\n",
       "      <th>4</th>\n",
       "      <td>4</td>\n",
       "      <td>갈취 대화</td>\n",
       "      <td>저기요 혹시 날이 너무 뜨겁잖아요? 저희 회사에서 이 선크림 파는데 한 번 손등에 ...</td>\n",
       "      <td>1</td>\n",
       "    </tr>\n",
       "    <tr>\n",
       "      <th>...</th>\n",
       "      <td>...</td>\n",
       "      <td>...</td>\n",
       "      <td>...</td>\n",
       "      <td>...</td>\n",
       "    </tr>\n",
       "    <tr>\n",
       "      <th>5528</th>\n",
       "      <td>5528</td>\n",
       "      <td>일반 대화</td>\n",
       "      <td>진짜 오늘 날씨 너무 덥지 않니? 맞아 진짜 더워. 오늘 밖에 나가기가 싫어. 제...</td>\n",
       "      <td>4</td>\n",
       "    </tr>\n",
       "    <tr>\n",
       "      <th>5529</th>\n",
       "      <td>5529</td>\n",
       "      <td>일반 대화</td>\n",
       "      <td>진짜 오늘 날씨 너무 좋지 않니? 그래 정말 좋아. 우리 오늘 주말에 뭐할까? 나...</td>\n",
       "      <td>4</td>\n",
       "    </tr>\n",
       "    <tr>\n",
       "      <th>5530</th>\n",
       "      <td>5530</td>\n",
       "      <td>일반 대화</td>\n",
       "      <td>제발 내 말 좀 들어봐. 지금 우리 진짜 심각한 상황에 처했어. 무슨 일인데 그래...</td>\n",
       "      <td>4</td>\n",
       "    </tr>\n",
       "    <tr>\n",
       "      <th>5531</th>\n",
       "      <td>5531</td>\n",
       "      <td>일반 대화</td>\n",
       "      <td>진짜 지금 당장 우리 그냥 만나서 얘기 좀 해보자. 무슨 일인데 그래? 관계 때문...</td>\n",
       "      <td>4</td>\n",
       "    </tr>\n",
       "    <tr>\n",
       "      <th>5532</th>\n",
       "      <td>5532</td>\n",
       "      <td>일반 대화</td>\n",
       "      <td>오늘 날씨 진짜 좋지 않니? 응 우리랑 놀기 참 좋은 날씨야. 근데 제발 오늘 일...</td>\n",
       "      <td>4</td>\n",
       "    </tr>\n",
       "  </tbody>\n",
       "</table>\n",
       "<p>5533 rows × 4 columns</p>\n",
       "</div>"
      ],
      "text/plain": [
       "       idx      class                                       conversation  \\\n",
       "0        0      협박 대화  지금 너 스스로를 죽여달라고 애원하는 것인가? 아닙니다. 죄송합니다. 죽을 거면 혼...   \n",
       "1        1      협박 대화  길동경찰서입니다.9시 40분 마트에 폭발물을 설치할거다.네?똑바로 들어 한번만 더 ...   \n",
       "2        2  기타 괴롭힘 대화  너 되게 귀여운거 알지? 나보다 작은 남자는 첨봤어.그만해. 니들 놀리는거 재미없어...   \n",
       "3        3      갈취 대화  어이 거기예??너 말이야 너. 이리 오라고무슨 일.너 옷 좋아보인다?얘 돈 좀 있나...   \n",
       "4        4      갈취 대화  저기요 혹시 날이 너무 뜨겁잖아요? 저희 회사에서 이 선크림 파는데 한 번 손등에 ...   \n",
       "...    ...        ...                                                ...   \n",
       "5528  5528      일반 대화   진짜 오늘 날씨 너무 덥지 않니? 맞아 진짜 더워. 오늘 밖에 나가기가 싫어. 제...   \n",
       "5529  5529      일반 대화   진짜 오늘 날씨 너무 좋지 않니? 그래 정말 좋아. 우리 오늘 주말에 뭐할까? 나...   \n",
       "5530  5530      일반 대화   제발 내 말 좀 들어봐. 지금 우리 진짜 심각한 상황에 처했어. 무슨 일인데 그래...   \n",
       "5531  5531      일반 대화   진짜 지금 당장 우리 그냥 만나서 얘기 좀 해보자. 무슨 일인데 그래? 관계 때문...   \n",
       "5532  5532      일반 대화   오늘 날씨 진짜 좋지 않니? 응 우리랑 놀기 참 좋은 날씨야. 근데 제발 오늘 일...   \n",
       "\n",
       "      int_class  \n",
       "0             0  \n",
       "1             0  \n",
       "2             3  \n",
       "3             1  \n",
       "4             1  \n",
       "...         ...  \n",
       "5528          4  \n",
       "5529          4  \n",
       "5530          4  \n",
       "5531          4  \n",
       "5532          4  \n",
       "\n",
       "[5533 rows x 4 columns]"
      ]
     },
     "execution_count": 10,
     "metadata": {},
     "output_type": "execute_result"
    }
   ],
   "source": [
    "train_data"
   ]
  },
  {
   "cell_type": "code",
   "execution_count": 11,
   "id": "74dc838f",
   "metadata": {},
   "outputs": [],
   "source": [
    "from transformers import BertTokenizer, TFBertModel"
   ]
  },
  {
   "cell_type": "code",
   "execution_count": 12,
   "id": "515408aa",
   "metadata": {},
   "outputs": [],
   "source": [
    "#MODEL_NAME = \"monologg/koelectra-small-v2-distilled-korquad-384\"\n",
    "#tokenizer = AutoTokenizer.from_pretrained(MODEL_NAME)\n",
    "#model = AutoModelForQuestionAnswering.from_pretrained(MODEL_NAME, num_labels=5, from_pt=True)"
   ]
  },
  {
   "cell_type": "code",
   "execution_count": 13,
   "id": "9a9ac3ee",
   "metadata": {},
   "outputs": [
    {
     "data": {
      "application/vnd.jupyter.widget-view+json": {
       "model_id": "ecf7a01dd94a4e98bcbb163f2aff0799",
       "version_major": 2,
       "version_minor": 0
      },
      "text/plain": [
       "Downloading:   0%|          | 0.00/244k [00:00<?, ?B/s]"
      ]
     },
     "metadata": {},
     "output_type": "display_data"
    },
    {
     "data": {
      "application/vnd.jupyter.widget-view+json": {
       "model_id": "6a49bd4baf96481eadbfcd580349b042",
       "version_major": 2,
       "version_minor": 0
      },
      "text/plain": [
       "Downloading:   0%|          | 0.00/49.0 [00:00<?, ?B/s]"
      ]
     },
     "metadata": {},
     "output_type": "display_data"
    },
    {
     "data": {
      "application/vnd.jupyter.widget-view+json": {
       "model_id": "f0fa214a12494bb4b9c18b19d918901f",
       "version_major": 2,
       "version_minor": 0
      },
      "text/plain": [
       "Downloading:   0%|          | 0.00/619 [00:00<?, ?B/s]"
      ]
     },
     "metadata": {},
     "output_type": "display_data"
    },
    {
     "data": {
      "application/vnd.jupyter.widget-view+json": {
       "model_id": "e155a1f18e264012a8e80254b03c38ec",
       "version_major": 2,
       "version_minor": 0
      },
      "text/plain": [
       "Downloading:   0%|          | 0.00/418M [00:00<?, ?B/s]"
      ]
     },
     "metadata": {},
     "output_type": "display_data"
    },
    {
     "name": "stderr",
     "output_type": "stream",
     "text": [
      "Some weights of the PyTorch model were not used when initializing the TF 2.0 model TFBertModel: ['cls.predictions.bias', 'cls.seq_relationship.weight', 'cls.predictions.transform.dense.weight', 'cls.predictions.decoder.bias', 'cls.predictions.transform.LayerNorm.bias', 'cls.seq_relationship.bias', 'cls.predictions.decoder.weight', 'cls.predictions.transform.dense.bias', 'cls.predictions.transform.LayerNorm.weight']\n",
      "- This IS expected if you are initializing TFBertModel from a PyTorch model trained on another task or with another architecture (e.g. initializing a TFBertForSequenceClassification model from a BertForPreTraining model).\n",
      "- This IS NOT expected if you are initializing TFBertModel from a PyTorch model that you expect to be exactly identical (e.g. initializing a TFBertForSequenceClassification model from a BertForSequenceClassification model).\n",
      "All the weights of TFBertModel were initialized from the PyTorch model.\n",
      "If your task is similar to the task the model of the checkpoint was trained on, you can already use TFBertModel for predictions without further training.\n"
     ]
    }
   ],
   "source": [
    "MODEL_NAME = \"beomi/kcbert-base\"\n",
    "tokenizer = BertTokenizer.from_pretrained(MODEL_NAME)\n",
    "model = TFBertModel.from_pretrained(MODEL_NAME, num_labels=5, from_pt=True)"
   ]
  },
  {
   "cell_type": "code",
   "execution_count": 14,
   "id": "ccbb4812",
   "metadata": {},
   "outputs": [
    {
     "name": "stdout",
     "output_type": "stream",
     "text": [
      "30000\n"
     ]
    }
   ],
   "source": [
    "print(tokenizer.vocab_size)\n"
   ]
  },
  {
   "cell_type": "code",
   "execution_count": 15,
   "id": "bc578472",
   "metadata": {},
   "outputs": [],
   "source": [
    "# add_tokens = ['[NEW']\n",
    "new_words = ['구급차', '지혈', '침입', '고속도로', '엘리베이터','진정', '한강공원', '빌라', '소방차','대피', '편의점', '부엌', '심폐소생술', '침착', '출혈', '빌딩', '중학교', '전여친', '전남친', '안부', '지각', '팀장', '##팀장', '팀원', '##팀원', '스캔들', '읽씹', '간식', '프로젝트', '믹스커피', '군것질', '필수품', '힐링', '시발', '씨발', '상사', '피드백', '성의', '레스토랑', '칼퇴', '서운', '퇴사','숙제', '농구', '반장', '쌍욕', '망각', '수다', '떨기', '음료수', '벌점', '지각', '교복', 'PPT', '타이트', '미팅', '희정', '영지', '네일', '파스텔', '자릿세', '보이스피싱', '아이패드', '뺀질', '휠체어', '옥상', '노약자', '##석', '미스##', '데이트', '민아', '말년', '##과장', '과장', '민서', '##씨', '경마장', '숙제', '##대리', '대리', '지수', '교무실', '##주임',\n",
    "'주임', '진희', '병신', '차장',  '##차장', '사원', '##사원', '이##', '김##', '박##', '가평', '강남', '거창', '관악', '구로', '나주', '대구', '대만', '대전', '독도', '독일', '동해', '로마', '몽골', '미국', '부산', '부여', '북촌', '북한','강민', '관우', '광수', '나은', '민재', '민정', '민지', '민철', '민하', '민호', '민희', '개독', '꼰대', '기레기','구글', '구찌', '농협', '던힐', '레종', '맥북', '샤넬', '힐튼', '나이키', '넥서스', '롤렉스', '리니지', '말보로', '빼빼로', '생로랑', '샤오미']"
   ]
  },
  {
   "cell_type": "code",
   "execution_count": 16,
   "id": "132d48db",
   "metadata": {},
   "outputs": [
    {
     "data": {
      "text/plain": [
       "140"
      ]
     },
     "execution_count": 16,
     "metadata": {},
     "output_type": "execute_result"
    }
   ],
   "source": [
    "new_words = list(set(new_words))\n",
    "len(new_words)"
   ]
  },
  {
   "cell_type": "code",
   "execution_count": 17,
   "id": "d1301d25",
   "metadata": {},
   "outputs": [
    {
     "name": "stdout",
     "output_type": "stream",
     "text": [
      "대리 [2, 14685, 3]\n",
      "편의점 [2, 15858, 3]\n",
      "꼰대 [2, 11293, 3]\n",
      "독도 [2, 12037, 3]\n",
      "부여 [2, 20697, 3]\n",
      "나은 [2, 14112, 3]\n",
      "북한 [2, 8018, 3]\n",
      "과장 [2, 21002, 3]\n",
      "고속도로 [2, 19340, 3]\n",
      "대전 [2, 20532, 3]\n",
      "기레기 [2, 8500, 3]\n",
      "구글 [2, 16910, 3]\n",
      "대만 [2, 12698, 3]\n",
      "망각 [2, 29908, 3]\n",
      "동해 [2, 20875, 3]\n",
      "쌍욕 [2, 17589, 3]\n",
      "개독 [2, 13384, 3]\n",
      "민정 [2, 12077, 3]\n",
      "대구 [2, 8303, 3]\n",
      "강남 [2, 9134, 3]\n",
      "시발 [2, 13552, 3]\n",
      "부산 [2, 9530, 3]\n",
      "독일 [2, 11766, 3]\n"
     ]
    },
    {
     "data": {
      "text/plain": [
       "117"
      ]
     },
     "execution_count": 17,
     "metadata": {},
     "output_type": "execute_result"
    }
   ],
   "source": [
    "for item in new_words:\n",
    "    if len(tokenizer.encode(item))==3:\n",
    "        print(item, tokenizer.encode(item))\n",
    "        new_words.remove(item)\n",
    "len(new_words)\n"
   ]
  },
  {
   "cell_type": "code",
   "execution_count": null,
   "id": "e10a9c50",
   "metadata": {},
   "outputs": [],
   "source": []
  },
  {
   "cell_type": "code",
   "execution_count": 18,
   "id": "21caca74",
   "metadata": {},
   "outputs": [
    {
     "name": "stdout",
     "output_type": "stream",
     "text": [
      "We have added 110 tokens\n"
     ]
    },
    {
     "data": {
      "text/plain": [
       "<transformers.models.bert.modeling_tf_bert.TFBertEmbeddings at 0x7995d22571f0>"
      ]
     },
     "execution_count": 18,
     "metadata": {},
     "output_type": "execute_result"
    }
   ],
   "source": [
    "num_added_toks = tokenizer.add_tokens(new_words)\n",
    "print(\"We have added\", num_added_toks, \"tokens\")\n",
    "# Notice: resize_token_embeddings expect to receive the full size of the new vocabulary, i.e., the length of the tokenizer.\n",
    "model.resize_token_embeddings(tokenizer.vocab_size+num_added_toks)"
   ]
  },
  {
   "cell_type": "code",
   "execution_count": 19,
   "id": "1b66326b",
   "metadata": {},
   "outputs": [
    {
     "name": "stdout",
     "output_type": "stream",
     "text": [
      "Model vocab size: 30110\n"
     ]
    }
   ],
   "source": [
    "print(\"Model vocab size:\", model.config.vocab_size)"
   ]
  },
  {
   "cell_type": "code",
   "execution_count": 20,
   "id": "0031e4a3",
   "metadata": {},
   "outputs": [
    {
     "data": {
      "text/plain": [
       "30110"
      ]
     },
     "execution_count": 20,
     "metadata": {},
     "output_type": "execute_result"
    }
   ],
   "source": [
    "model.config.vocab_size"
   ]
  },
  {
   "cell_type": "code",
   "execution_count": 21,
   "id": "de997906",
   "metadata": {},
   "outputs": [
    {
     "name": "stdout",
     "output_type": "stream",
     "text": [
      "Model: \"tf_bert_model\"\n",
      "_________________________________________________________________\n",
      "Layer (type)                 Output Shape              Param #   \n",
      "=================================================================\n",
      "bert (TFBertMainLayer)       multiple                  109003008 \n",
      "=================================================================\n",
      "Total params: 109,003,008\n",
      "Trainable params: 109,003,008\n",
      "Non-trainable params: 0\n",
      "_________________________________________________________________\n",
      "None\n"
     ]
    }
   ],
   "source": [
    "print(model.summary())"
   ]
  },
  {
   "cell_type": "code",
   "execution_count": 22,
   "id": "744c9416",
   "metadata": {},
   "outputs": [
    {
     "name": "stdout",
     "output_type": "stream",
     "text": [
      "문장에서 가장 긴 토큰 개수: 599\n"
     ]
    }
   ],
   "source": [
    "# 테스트 데이터 토큰화 (문장별 토큰 개수 확인)\n",
    "tokenized_texts = [tokenizer.tokenize(text) for text in train_data['conversation']]\n",
    "\n",
    "# 각 문장의 토큰 개수 계산\n",
    "token_lengths = [len(tokens) for tokens in tokenized_texts]\n",
    "\n",
    "# 최대 토큰 개수 찾기\n",
    "max_token_length = max(token_lengths)\n",
    "\n",
    "print(f\"문장에서 가장 긴 토큰 개수: {max_token_length}\")"
   ]
  },
  {
   "cell_type": "code",
   "execution_count": 23,
   "id": "6de8700c",
   "metadata": {},
   "outputs": [
    {
     "name": "stdout",
     "output_type": "stream",
     "text": [
      "30000\n",
      "30110\n"
     ]
    }
   ],
   "source": [
    "# 단어 사전 개수 확인\n",
    "print(tokenizer.vocab_size) # orig size\n",
    "print(len(tokenizer)) # added size\n"
   ]
  },
  {
   "cell_type": "code",
   "execution_count": 24,
   "id": "ea49c16d",
   "metadata": {},
   "outputs": [
    {
     "name": "stdout",
     "output_type": "stream",
     "text": [
      "[CLS]\n",
      "[SEP]\n"
     ]
    }
   ],
   "source": [
    "# 특수 토큰 확인\n",
    "print(tokenizer.cls_token)\n",
    "print(tokenizer.sep_token)"
   ]
  },
  {
   "cell_type": "code",
   "execution_count": 25,
   "id": "9d52b8f4",
   "metadata": {},
   "outputs": [
    {
     "name": "stdout",
     "output_type": "stream",
     "text": [
      "0\n",
      "['야', '신규', '너', '똑바로', '환자', '관리', '안', '하냐', '?', '인수', '##인', '##계', '제대로', '들은', '##거', '맞아', '?', '너', '누가', '저', '환자', '항', '##암', '약', '##물', '속도', '저렇게', '하', '##래', '죽이고', '싶어서', '환장', '##했어', '?', '인수', '##인', '##계', '들었는데', '.', '어', '.', '약', '##물', '속도', '##는', '제', '프리', '##셉', '##터', '선생님', '##이', '.', '설명', '##해주', '##신', '##바로', '.', '저렇게', '하라고', '하셨', '##어요', '.', '니', '프리', '##셉', '##터', '##가', '문제', '##라는거야', '?', '너가', '잘', '못', '##들은', '##거', '아니고', '?', '아니', '바쁘', '##셔서', '그런지', '.', '책', '보고', '알아서', '하라', '그래서', '책', '보고', '최대한', '아는', '대로', '한', '##겁니다', '.', '모르는', '##거', '물어보', '##라고', '프리', '##셉', '##터', '붙여', '##준거', '아니야', '?', '너', '여기', '실', '##전이', '##야', '니', '하는', '행동에', '환자가', '죽을', '##수도', '있다고', '.', '야', '김', '##간', '##호사', '너', '얘', '프리', '##셉', '##터', '##지', '?', '네', '맞는데', '##요', '왜', '그러', '##시죠', '?', '아니', '얘가', '약', '##물', '조절', '잘못', '##했는데', '너가', '책', '보고', '하라', '그랬다', '##고', '그러', '##던데', '?', '대충', '알려', '##줬', '##냐', '?', '그런', '적', '없는데', '##요', '.', '자기가', '괜히', '잘못', '##해놓고', '제', '탓', '하는건가', '##보죠', '.', '그리고', '저', '신규', '##간', '##호사', '일도', '제대로', '못', '하고', '아는', '##것도', '하나도', '없어서', '가르', '##칠', '##맛', '##이', '안나', '##요', '.', '한', '번', '한', '달', '##간', '굴', '##려', '##봐야', '정신차리', '##나', '.', '야', '니가', '멍청해서', '설명', '##해도', '못', '알아', '##들', '##었나', '##보네', '.', '근데', '어디서', '선배', '간호사', '##를', '탓', '해', '.', '너가', '부족하다', '생각하면', '매일', '남아서', '연습', '##하고', '또', '연습', '##해', '.', '좀', '억울한', '##게', '이번에', '프리', '##셉', '##터', '선생님', '배', '##정', '##받고', '뭐', '설명', '##듣고', '배운', '##거', '하나도', '없어요', '.', '가르쳐', '##주시', '##지도', '않았고', '간호사', '됐으면', '알아서', '다', '하라고', '하셨', '##어요', '.', '다른', '동', '##기들', '프리', '##셉', '##터', '분들은', '다', '차', '##근', '##차', '##근', '설명', '##해주', '##시는', '##데', '제', '프리', '##셉', '##터', '##분은', '너', '혼자', '해라', '매일', '이런식', '##이었어', '##요', '.', '야', '그래서', '내가', '잘못했다', '##는거냐', '?', '너', '나한테', '또', '배울', '##거면', '왜', '돈', '내고', '4년', '##동안', '대학', '다니는데', '.', '제발', '혼자', '알아서', '해', '남탓', '##하지', '말고', '.', '간호사', '##를', '그만두', '##던가', '제대로', '못', '하면서', '왜', '대학', '##병원', '##에', '입사', '##해가', '##지고', '사람들을', '이렇게', '괴롭', '##혀', '?', '차라리', '환자들', '똥', '##기', '##저', '##귀', '##나', '갈', '##던가', '.', '실력', '##도', '없는', '게', '말은', '많아', '##가지고', '.']\n",
      "\n",
      "\n",
      "1\n",
      "['신', '##과', '##장', '오늘', '사', '##직', '##서', '쓰고', '내일', '##부터', '나오지', '말', '##게', '##나', '.', '네', '?', '왜', '그러', '##시는', '##거죠', '?', '저', '사', '##직', '##서', '쓴다고', '얘기', '드', '##린', '적', '없는데', '##요', '.', '다른사람', '##이랑', '착각', '##하시는', '##거', '아닌가요', '?', '신', '##과', '##장', '착각', '##이', '심한', '##건가', '눈치', '##가', '없는건가', '?', '진짜', '왜', '짜', '##르는', '##지', '모르나', '?', '아니면', '알면서도', '모른척', '하는건가', '?', '저', '##요', '.', '?', '죄송', '##한데', '진짜', '갑자기', '왜', '그러', '##시는지', '모르겠', '##어요', '.', '저', '회사에', '뭐', '크게', '일', '낸', '##것도', '없는데', '.', '1년', '##전에', '말이야', '.', '누가', '우리', '회사', '세금', '##횡', '##령', '##한다고', '내부고발', '##했을', '때', '그게', '누군지', '몰랐', '##거든', '?', '근데', '이제', '알았어', '신', '##과', '##장', '자네', '##가', '내부고발', '했다', '##며', '.', '지금까지', '꽁', '##꽁', '숨기', '##느라', '힘들', '##었', '##겠어', '.', '남의', '등에', '칼', '꽂', '##으니까', '좋아', '?', '그건', '법을', '어', '##겼', '##으니', '신고', '##한', '##겁니다', '.', '그리고', '내부고발', '##로', '사', '##직', '##시키는', '##거', '법원', '##까지', '갈', '수', '있는', '문제', '##라는거', '아', '##십니까', '?', '동료', '##를', '믿지', '못', '하고', '외부', '##에', '신고', '##한', '사람은', '더이상', '우리랑', '일', '할', '자격이', '없어', '.', '당장', '내', '##쫓', '##기전에', '짐', '정리', '##하고', '내일', '##까지', '자리', '비', '##워', '.', '너', '말고도', '유', '##망', '##한', '인재', '많으니까', '.', '동료', '등에', '칼을', '꽂', '##았으면', '끝을', '볼', '각오', '##는', '했어야지', '.', '부당', '해고', '하시면', '신고', '##할겁니다', '.', '저는', '그때', '마땅', '##히', '해야', '할', '일을', '했을', '뿐이', '##에요', '.', '제가', '이렇게', '쫓겨', '##나야', '할', '이유', '모르겠', '##습니다', '.', '모르겠다', '##고', '?', '아직도', '그', '말이', '나와', '?', '그때', '감사', '들어가고', '회사', '한동안', '고생', '많이', '했어', '.', '그정도는', '동료', '##로써', '눈', '감', '##아', '##줄', '수', '있는거', '아닌가', '?', '넌', '동료', '##의', '믿음', '##을', '저', '##버렸', '##어', '.', '빨리', '나가', '.', '꼴도', '보기', '싫', '##으니까', '.', '월급은', '대충', '내가', '일한', '날', '##에', '맞춰서', '계좌', '##로', '보내', '##줄게', '.', '너무', '##하시네요', '.', '저도', '이런', '회사에', '더', '이상', '있고', '싶지', '않아요', '.', '우리도', '같은', '입장이', '##야', '.', '자기', '혼자', '정의로운', '척', '하는', '사람', '##하고는', '일', '할', '이유', '못', '느껴', '.']\n",
      "\n",
      "\n",
      "2\n",
      "['이게', '어떻게', '된거', '##야', '.', '?', '엄마', '수술', '##은', '어떻게', '된거', '##냐고', '엄마가', '이제', '괜찮다고', '해서', '딱', '봐도', '많이', '좋아', '##지', '##셨', '##잖아', '.', '굳이', '수술', '##까진', '할', '필요', '없어', '##보여', '##서', '.', '뭐', '?', '그걸', '왜', '누나', '##가', '정해', '?', '누나', '##가', '의사', '##야', '?', '병원', '##가서', '정', '##밀', '##검사', '받아', '##보고', '해야지', '.', '큰', '병이', '##면', '어쩌려고', '그래', '?', '아', '늙어서', '몸', '##도', '성', '##하지', '않는', '사람', '수술', '##해서', '뭐', '어쩔건데', '?', '?', '?', '?', '그럼', '내가', '준', '수술', '##비는', '어쨌', '##는데', '.', '급', '##하다', '##며', '급', '##하다고', '해서', '내가', '돈', '다', '빼', '##서', '줬', '##잖아', '.', '그거', '어딨냐', '##고', '!', '!', '!', '!', '!', '!', '!', '!', '!', '그건', '다른', '급한', '곳에', '썼', '##어', '.', '하', '.', '급한', '곳', '?', '뭔데', '어디다', '썼', '##는데', '.', '엄마', '모시고', '살면', '돈', '나가는', '곳이', '한', '두', '군', '##데', '##니', '?', '이것', '저것', '급한', '곳', '##들', '돈', '썼', '##지', '.', '니가', '말하면', '알아', '?', '이건', '뭐야', '?', '못', '보', '##던', '##건데', '.', '누나', '또', '명품', '##샀', '##어', '?', '아', '내놔', '!', '!', '!', '!', '!', '!', '!', '!', '니가', '뭘', '알아', '.', '아니야', '이거', '원래', '있던', '##거야', '.', '하', '.', '니가', '그러고도', '인간이', '##야', '?', '그게', '어떤', '##돈', '##인데', '!', '!', '!', '!', '!', '!', '!', '!', '!', '!', '!', '!', '내가', '밤', '##낮', '##으로', '잠도', '못', '##자가', '##면서', '번', '돈', '!', '!', '!', '!', '!', '!', '엄마', '수술', '##비하', '##라고', '다', '빼', '##서', '준', '걸', '니가', '가방', '##을', '쳐', '사는데', '써', '?', '?', '?', '?', '?', '?', '?', '?', '?', '?', '?', '아', '시끄러', '##워', '.', '나', '바빠', '가야', '##해', '.', '이성을', '잃은', '듯', '너같은', '년이', '죽어야', '##하는데', '.', '너같은', '년은', '살', '가치가', '없다', '.', '너가', '죽어', '너가', '!', '!', '!', '!', '!', '!', '!', '!', '!', '!', '!', '왜', '.', '왜이래', '?', '?', '!', '미쳤어', '?', '이제', '도저히', '못참', '##겠다', '.', '몇', '년', '동안', '이게', '몇', '번', '##째', '##야', '?', '이', '짓거리', '못하도록', '그냥', '널', '병신', '만드는게', '낫겠다', '.', '팔', '다리', '##를', '부러', '##뜨', '##려야', '밖으로', '안', '##싸', '##돌아', '다니지', '?', '발목', '##을', '아주', '잘라', '##버려야', '##겠어', '.', '주변에', '흉기', '##를', '찾는', '##다', '미', '.', '미쳤어', '왜이렇게', '흥분', '##해', '?', '!', '?', '!', '?', '공', '##구', '##함에', '있던', '망치', '##를', '들', '##며', '너', '내가', '오늘', '가만', '안', '##둬', '.', '미친', '건', '너', '##야', '.', '팔', '##다리', '##를', '없애', '##버리', '##겠어', '.', '꺄', '##아아', '##아']\n",
      "\n",
      "\n",
      "3\n",
      "['야', '헤어', '##지', '##자고', '니가', '먼저', '문자', '##하고', '내', '문자', '안', '읽어', '?', '너', '각오', '##하는', '게', '좋을', '##거야', '##봐', '##봐', '내가', '이래서', '너랑', '만나', '##기', '힘들다', '##는거야', '무서워서', '이제', '너랑', '더이상', '끝내', '##고', '싶어', '##너', '원하는대로', '안될', '##걸', '?', '너', '그날', '##밤', '##알지', '?', '내가', '그', '##영상', '니', '친구들', '##한테', '보내', '##버릴', '##거야', '##왜', '그러는거', '##야', '하지마', '내가', '영상', '찍', '##으라고', '동의', '한', '적도', '없고', '헤어', '##지', '##자는', '걸로', '이러는', '##것도', '무서워', '##무서', '##우면', '애초에', '내', '말대로', '잘', '따', '##랐', '##어야지', '##이거', '내가', '그대로', '신고', '##할거야', '영상', '유포', '##하기만', '해봐', '나', '진짜', '그냥', '못', '넘어가', '##나', '이제', '잃', '##을거', '없어', '너나', '잃', '##을', '게', '많', '##겠지', '##진짜', '하지마', '미안해', '진짜로', '나', '그거', '유포', '##되면', '인생', '끝나', '##너', '##가', '나한테', '한마디', '상', '##의도', '없이', '헤어', '##지', '##자', '할', '때부터', '내', '인생은', '끝났어', '됐', '##어', '이미', '다른', '사이트', '##에', '다', '뿌', '##렸고', '이제', '친구', '##한테', '보내는', '##것만', '남았', '##네', '##왜', '그러는거', '##야', '이런', '##다고', '달라질', '##건', '하나도', '없어', '제발', '말로', '##하자', '말로', '##너', '##도', '알잖아', '애초에', '나', '말로', '##해서', '될', '애', '아니라는', '##거', '니', '멋대로', '행동', '##한', '결과', '잘', '받아', '##드려', '##나는', '뭐', '없을거', '같아', '?', '나도', '너가', '이러고', '다니는', '##거', '너', '부모님', '##께', '다', '말할', '##거야', '##끝까지', '정신', '못차', '##리는', '##구만', '너', '지금', '내가', '어디', '##일', '##거', '같아', '?', '너', '본', '##가', '앞에', '다', '도착', '##했어', '##그', '##게', '뭔소리야', '?', '거기', '##는', '왜', '갔는데', '뭘', '##하려는', '##거야', '##아버지', '혼자', '계시', '##네', '똑똑히', '봐', '니가', '정신', '못', '차리고', '입으로만', '떠', '##든', '결과를', '오늘', '##이', '우리', '헤어', '##진', '날이', '##자', '아버', '##님', '기', '##일이', '되겠네', '##뭐', '##라고', '?', '협박', '##도', '너가', '먼저', '했잖아', '부모님', '##은', '건들지', '마', '무슨', '죄가', '있으', '##시다', '##고', '그래', '##무슨', '죄', '##라', '.', '뭐', '자식', '잘못', '키운', '게', '죄', '##라고', '할', '수', '있겠지', '.', '지금까지', '사귀', '##어', '##줘서', '고맙', '##고', '내가', '아프', '##지', '않게', '잘', '보내', '##드릴', '##게', '##그냥', '뭐', '.', '조금은', '아프', '##시', '##겠지만', '깔끔하게', '빨리', '보내', '##드려', '##야지', '그게', '예의', '##니까', '.', '너도', '반성', '많이', '하기', '##를', '바랄', '##게']\n",
      "\n",
      "\n",
      "4\n",
      "['네', '아버', '##님', '안녕', '##하십니까', '.', '저는', '따', '##님의', '남편이', '될', '길', '##동', '입니다', '.', '어', '.', '어서', '오', '##시게', '.', '진짜', '훤', '##칠', '##하네', '우리', '딸이', '한', '##눈에', '반', '##할', '##만', '해', '.', '혹시', '가족은', '어떻게', '되나', '?', '저는', '아버지', '어머니', '여', '##동생', '둘', '이렇게', '두고', '있어요', '.', '내가', '보기', '##와', '다르게', '대학교', '공과', '##대학', '출신이', '##야', '.', '뭐', '학벌', '그렇게', '중요', '##하게', '생각하지', '##는', '않는데', '.', '부모님', '학력', '##은', '어떻게', '되나', '.', '?', '저희', '부모님', '##은', '아버지는', '고졸', '##이', '##시고', '어머니', '##는', '대학교', '나오', '##셨습니다', '.', '고졸', '##에', '대학교', '.', '대학교', '##는', '들어', '##본', '적', '도', '없는', '대학교', '##인데', '.', '원래', '학력', '##이', '낮은', '집안이', '재정', '##도', '떨어지', '##지만', '화', '##목', '##하지', '##가', '않아', '.', '맨날', '지들', '서로', '##가', '잘났다고', '싸워서', '솔직히', '내가', '보기에', '##는', '다', '머리', '빈', '애들', '같은데', '뭐', '도', '##토리', '키', '##재', '##기에', '길', '##기', '##리', '노는', '##거지', '.', '그래서', '그런데', '.', '내가', '당신을', '믿어', '##도', '되나', '.', '?', '부모님', '두', '분', '학력', '##이', '그러', '##시면', '자네', '##도', '만만', '##치않', '##게', '낮', '##을거', '같은데', '##아', '.', '저도', '똑같이', '고졸', '##입니다', '.', '상', '##업', '##고를', '졸업', '##하고', '바로', '취업', '##을', '해서', '.', '이', '##봐', '##이', '##봐', '이래서', '부모의', '학력', '##이', '중요', '##해', '.', '혹시', '내', '##딸', '##과', '결혼하면', '애', '낳아', '##서', '그', '애도', '고졸', '##이', '될지', '어떻게', '##알아', '?', '내', '딸', '학력', '##이', '너무', '아까운', '##데', '##제가', '꼭', '대학교', '보내', '##겠습니다', '.', '공부', '열심히', '배우', '##게', '해서', '키울', '자신', '있습니다', '.', '내가', '고졸', '사람', '말을', '어떻게', '믿어', '.', '혹시', '알아', '?', '폭력', '##적인', '성향', '##이', '있을수', '##도', '있잖아', '.', '왜', '도시', '##별', '범죄', '##비율', '##보면', '빈곤', '##한', '도시', '##가', '더', '범죄', '많이', '일어나', '##잖아', '.', '네', '집이', '어땠', '##을지', '##는', '모르겠지만', '그렇게', '화', '##목', '##하지', '않았을', '##거라는', '##것은', '내가', '장담', '##해', '.', '아닙니다', '아버', '##님', '.', '저희', '가족', '완전', '화', '##목', '##해요', '!', '부모님', '두', '분', '다', '서글', '##서', '##글', '하시고', '있는', '자리에서', '최선', '##다하고', '계시', '##고', '##자네', '말을', '믿기', '##에는', '아직', '시간이', '부족', '##해', '.', '우리', '딸이', '또', '시집', '살이', '하는데', '힘들', '##수도', '있고', '우리', '##딸', '시집', '##은', '그래도', '가족', '##끼리', '대화', '많이', '하고', '서로', '잘', '배려', '##해주는', '곳으로', '보내고', '싶은데', '왜', '이런', '집안', '##인', '애를', '좋아', '##하나', '모르겠네', '.']\n",
      "\n",
      "\n",
      "5\n",
      "['오', '야', '##야', '##야', '##야', '저기', '버스', '##온다', '쟤', '잡', '##자야', '!', '왜', '이래', '놔', '줘', '.', '나', '버스', '##타', '##야', '해', '.', '놔', '##달라고', '##버스', '갈', '때까지', '놔', '##주지', '##마', '!', '꽉', '붙', '##잡아', '!', '!', '야', '.', '버스', '지나', '##갔', '##잖아', '.', '아무리', '친구', '사이', '##여도', '이런', '장난', '##은', '너무', '하지', '않냐', '?', '더군다나', '내가', '오늘', '학원', '시험', '있다고', '했잖아', '.', '그거', '기준', '##점', '##보다', '떨어지면', '학원', '퇴출', '##이란', '말이야', '.', '우리', '엄마가', '얼마나', '힘들게', '등록', '##해', '##놓', '##으신', '학원', '##인데', '.', '어떻게', '책임질', '##거야', '!', '뭘', '책임', '##져', '.', '야', '##야', '어쩌', '##피', '너', '성적', '##도', '별로', '안', '나오', '##잖아', '.', '좋은', '학원', '아니라는', '##거야', '참', '##된', '우', '##정을', '택', '##한', '당신', '멋', '##져', '##용', '어쩌', '##피', '이제', '놀', '겸', '피', '##시', '##방이', '##나가', '##자', '##장난', '##하려', '하지', '마', '.', '나', '무단', '##결', '##석이', '##라', '이제', '퇴출', '확정', '##이야', '.', '지금', '우리', '고', '##2', '##야', '그런', '중요한', '시기에', '어떻게', '학원', '##을', '옮겨', '##서', '수업', '##을', '들어', '.', '너가', '내', '인생', '다', '망', '##쳤', '##어', '.', '너', '때문에', '대학', '못', '가면', '어쩌', '##려', '##그래', '.', '예', '너무', '진지하게', '받', '##네', '야', '너', '그깟', '학원', '퇴출', '당했다', '##고', '인생', '망하는', '##거', '아니야', '.', '이미', '너가', '예전부터', '차', '##근', '##차', '##근', '너', '인생', '망하는', '길로', '진입', '##했잖아', '.', '이제', '핑계', '될', '거', '없어서', '이런걸로', '?', '넌', '글러', '##먹', '##었다', '.', '너네가', '나', '버스', '못', '##타', '##게', '잡아', '##놓고', '왜', '이렇게', '당당', '##해', '?', '잡지', '##를', '말았', '##어야지', '##버스', '##비', '줄', '##테니까', '가', '.', '진짜', '짜증나', '##게', '하네', '.', '야', '공부도', '못', '하면서', '유세', '떨', '##려', '하지', '마', '.', '뭔', '자꾸', '인생을', '망친다', '타령', '##이야', '.', '그렇게', '붙', '##잡는', '게', '기분', '나', '##빴', '##냐', '?', '근데', '어째', '난', '사과', '##할', '마음', '하나도', '없는데', '.', '쥐', '똥만', '##한', '성적', '##으로', '공부', '되게', '열심히', '하는', '척', '하네', '.', '야', '니', '본', '##분을', '알고', '살아', '.', '공부도', '못하고', '상황에', '따라', '머리도', '못', '굴', '##리는', '애가', '.', '너가', '잘못', '##해놓고', '너무하네', '.', '내가', '이런', '말', '까지', '들어야', '해', '.', '?']\n",
      "\n",
      "\n",
      "6\n",
      "['혹시', '오늘', '5', '##6', '##교', '##시에', '자율', '빠지고', '수업', '보', '##충', '##인가요', '?', '저희', '##반', '애들이', '그러', '##길래', '.', '네', '모르', '##셨어요', '?', '어떻게', '애들', '##보다', '학교', '공', '##지가', '더', '느', '##릴', '수', '있어요', '.', '저', '##한테', '공', '##지가', '안', '와서', '미쳐', '확인', '못', '했네', '##요', '.', '이를', '어쩌', '##죠', '교과서', '안', '가지고', '온', '애들이', '많다고', '하던데', '.', '혹시', '저희', '##반', '5', '##교', '##시', '수학', '##이던', '##데', '선생님', '.', '오늘은', '교과서', '없이', '수업', '나가', '##실', '수', '없을까', '##요', '?', '그건', '안되', '##겠는데', '##요', '.', '이제', '곧', '시험', '##이라', '다른', '##반이', '##랑', '똑같이', '안', '맞춰', '##주면', '애들', '##사이에', '##서', '불만', '나와', '##요', '.', '그니까', '왜', '담', '##임이', '되어서', '학교', '공', '##지', '확인', '##을', '안', '하고', '다니', '##십니까', '?', '제가', '확인', '안', '한게', '아니고', '공', '##지', '문자', '##가', '저', '##한테만', '안', '온', '##거', '같아요', '.', '누', '##락', '##된거', '같아요', '.', '국어', '##쌤', '쌤', '##이', '학교', '공', '##지', '담당', '##이죠', '?', '어제', '수업', '보', '##충', '##한다고', '공', '##지', '보낸', '##거', '누', '##락', '##된', '분', '##도', '계세요', '?', '없을', '##걸요', '?', '왜', '##요', '화학', '##쌤', '##이', '그러', '##셔요', '?', '아니', '제가', '아무리', '공', '##지', '누', '##락', '시켰', '##다', '##해도', '알아서', '확인', '하셔야', '##지', '.', '그럼', '뭐', '애들은', '따로', '공', '##지', '받고', '소식', '아나', '##요', '?', '저', '##한테', '공', '##지가', '안', '온', '##걸', '제가', '무슨', '수', '##로', '알아', '##봅', '##니까', '.', '학', '##사일', '##정에', '자율', '##이라', '되어', '##있으니', '저는', '학', '##급', '##활동', '하려고', '했', '##죠', '.', '화학', '쌤', '반', '애들', '너무', '불쌍하다', '.', '시험', '##기간', '얼마', '남았다', '##고', '에휴', '.', '못난', '담', '##임', '둬', '##서', '애들이', '불쌍하네', '##요', '.', '그러게', '말이', '##에요', '.', '학교에', '관심도', '없고', '공', '##지도', '안', '해주고', '애들', '무슨', '대학', '수업', '듣는', '##것도', '아니고', '다', '자기들', '알아서', '해야', '하는건가', '##봐요', '.', '선생님', '분', '##발', '좀', '해요', '.', '공', '##지', '안', '온다고', '손', '빼', '##놓고', '있지', '말고', '##요', '.', '일부러', '공', '##지', '저', '##한테만', '안', '보내', '##신', '##거', '아니죠', '.', '?', '왠지', '말씀', '##하시는', '##거', '보니까', '일부러', '그러', '##신', '##거', '같은데요', '.', '저', '##봐', '저', '##봐', '또', '남한테', '핑계', '##를', '찾', '##네', '.', '일부러', '그랬다', '##면', '어쩔건데', '##요', '.', '그리고', '담', '##임이', '되어서', '내일', '변', '##동', '##사항', '없는지', '다른', '쌤', '##들을', '통해서', '##라도', '물어봐', '##야', '하는거', '아닌가요', '?']\n",
      "\n",
      "\n",
      "7\n",
      "['저기요', '선생님', '혹시', '다음', '##주인', '##가', '다', '##다음', '##주에', '유치원', '견', '##학', '가는', '장소', '##와', '시간', '알려주', '##실', '수', '있을까요', '?', '학부모', '##님', '지금', '시간이', '12', '##시라', '##서', '제가', '아침에', '일어나서', '유치원', '가면', '보내', '##드리', '##도록', '하겠습니다', '.', '저기요', '그거', '하나', '보내', '##주는', '게', '어렵', '##습니까', '?', '그럼', '저희', '애', '담', '##임', '왜', '하는데', '##요', '이런', '시간에', '문자', '보내면', '안된다는', '법', '있나요', '?', '지금', '시간이', '너무', '늦', '##었고', '내일', '해도', '되는', '얘기', '##라', '그렇게', '말했', '##습니다', '.', '내일', '상', '##세', '##하게', '다시', '전달', '##하여', '드리', '##겠습니다', '.', '진짜', '뻔뻔하고', '대충', '일', '하려고', '하시네요', '.', '유치원', '##에서도', '애들', '대충', '가르치', '##고', '대충', '보육', '##하시죠', '?', '저', '진짜', '정', '##성을', '다해', '##서', '아이들', '한', '명', '한', '명', '대', '##하고', '있습니다', '.', '자녀', '##분도', '마찬가지로', '정', '##성', '다해', '보살', '##피', '##고', '있고', '##요', '.', '거짓말', '치지', '마세요', '.', '프로', '##필', '사진', '##만', '봐도', '유치원', '선생님', '##이', '사진이', '이게', '뭡니까', '?', '교육', '##자로서', '##의', '자질이', '부족', '##하시네요', '.', '프로', '##필', '사진은', '엄연히', '제', '사', '##적인', '공간', '입니다', '.', '물론', '제', '마음대로', '사진', '올릴', '##수도', '있는거고', '##요', '.', '애들', '앞에서', '##도', '이런', '사진', '보여주', '##시는', '##거', '아니죠', '?', '지금', '이', '문자', '##만', '봐도', '애들', '어떻게', '케어', '하실', '##지', '매우', '걱정이', '되는데', '##요', '학부모', '##님', '견', '##학', '가는', '정보', '##에', '대해', '안', '알려', '줬', '##다고', '너무', '개인적인', '영역', '##까지', '침해', '##하시면', '##서', '말씀', '##하시는', '것', '같다는', '생각이', '드는', '##데요', '.', '그렇게', '생각', '##하시', '##던', '말던', '제가', '이', '유치원', '카페', '##에', '올릴', '##겁니다', '.', '정보', '공유', '부탁', '드', '##렸는데', '대충', '얼', '##버', '##무리', '##시면', '##서', '쉽게', '일', '##하시', '##려', '하고', '프로', '##필', '사진', '##도', '애들', '정서', '##와', '맞지', '않는', '##거', '올리면', '##서', '생활', '##하신', '##다고', '##요', '.', '학부모', '##님께서', '그렇게', '생각', '##하신', '##다면', '어쩔', '수', '없지만', '전', '분명', '말', '##하길', '늦은', '시간이', '##었고', '사생활', '##이기', '때문에', '관심', '받을', '필요', '없다고', '느', '##낍', '##니다', '.', '네', '혼자서', '생각', '##하시고', '그렇게', '편히', '대충', '잘', '주무', '##시기를', '바랄', '##게요']\n",
      "\n",
      "\n",
      "8\n",
      "['보육', '##원', '선생님', '맞', '##으시', '##죠', '?', '선생님', '저', '은', '##희', '##예요', '.', '저', '찾을', '생각하지', '마세요', '.', '안', '돌아갈', '##거니까', '##은', '##희', '##야', '너', '우리', '아니면', '지금', '당장', '잘', '곳도', '못', '찾아', '.', '부모님', '찾', '##았다고', '정부', '지원', '끊어', '##버릴', '##까', '?', '당장', '안', '돌아오', '##니', '?', '전', '거기서', '구더기', '밥', '먹고', '상한', '우유', '먹으면서', '생활', '못해요', '.', '학교', '가서', '친구들', '얘기', '들어', '##보면', '다', '맛', '##있는', '밥', '먹고', '다니는데', '.', '그래서', '뭐', '어쩌려고', '?', '학교', '친구들', '집', '가서', '밥', '달라', '하려고', '?', '넌', '어쩌', '##피', '여기', '다시', '오게', '되어', '##있어', '.', '애들이', '놀아', '##줘서', '뭐가', '된', '줄', '착각', '##하나', '본', '##데', '빨리', '돌아', '##와라', '.', '저', '지금', '경찰에', '신고', '##하러', '##가는', '중', '이에', '##요', '.', '맨날', '밥', '잘', '먹이', '##는', '척', '하면서', '돈', '다', '가', '##셨', '##잖아요', '.', '너', '그거', '아냐', '?', '우리', '보육', '##원', '애들이', '왜', '밥', '##만', '먹으면', '잠', '잘', '##자는', '##지', '?', '이렇게', '배신', '##하고', '탈출', '##할', '줄', '알고', '수면', '##제', '타', '놨', '##지', '.', '너도', '이제', '곧', '쓰러', '##질', '##거야', '그때', '만나', '##자', '.', '저도', '대충', '눈치', '##채', '##서', '밥', '안', '먹었', '##어요', '.', '이것도', '다', '녹음', '했으니', '##까', '감옥', '갈', '각오', '##하세요', '.', '애들', '밥', '가지고', '장난', '치', '##시면', '안되', '##셨다', '##는걸', '뼈', '저리', '##게', '느끼', '##시길', '바랄', '##게요', '.', '혼자', '착각', '##이', '심하네', '.', '너', '얘기를', '누가', '들어', '##줄', '##거', '같', '##니', '?', '몇', '년', '##간', '사회적으로', '인정', '##받은', '내', '말은', '믿', '##겠어', '아니면', '너', '말을', '믿', '##겠어', '?', '생각', '잘', '하고', '움직', '##여', '.', '녹음', '##한거', '있으니까', '괜찮아', '##요', '.', '저', '이제', '더', '이상', '못', '참', '##아요', '.', '그래', '참', '##지말고', '잘', '숨어', '##있', '##으', '##렴', '.', '보이는', '즉시', '우리', '보육', '##원에서', '니', '밥', '##으로', '나간', '돈', '너', '장기', '팔아서', '마련', '##할거', '##니까', '.', '기대해', '##도', '좋을', '##거야', '.', '너', '가', '##출신', '##고', '하면', '한', '번', '##에', '찾을', '수', '있는거', '알지', '?', '조만간', '꼭', '만나', '##자', '.', '그때', '##쯤', '##이면', '너도', '몸', '안', '##은', '다', '비', '##워', '##져', '있겠지만', '.']\n",
      "\n",
      "\n",
      "9\n",
      "['지금', '부장', '##님이', '오늘', '팀', '회식', '자리를', '마련', '##하셨', '##어', '.', '무슨', '자리', '##인데', '?', '오늘', '부장', '##님이', '새로', '오신', '대리', '##님을', '환영', '##하는', '자리', '##야', '.', '그래', '?', '우리도', '같이', '가면', '좋지', '않을까', '?', '좋아', '.', '그런데', '부장', '##님이', '오늘', '메뉴', '##를', '결정', '##하지', '못하', '##셨', '##어', '.', '우리', '그냥', '부장', '##님이', '결정', '##하시는', '대로', '따라가', '##면', '안', '될까', '?', '아니야', '우리는', '우리', '방식', '##대로', '하는', '게', '좋아', '.', '그래', '?', '그럼', '우리는', '어떤', '메뉴', '##를', '정', '##할까', '?', '나는', '그냥', '평범한', '메뉴', '##를', '정', '##하고', '싶어', '.', '나도', '그래', '.', '우리', '그냥', '파', '##스타', '##나', '피자', '##를', '먹', '##자', '.', '좋아', '그렇게', '하자', '.', '그런데', '부장', '##님이', '오늘', '일정', '##도', '정해', '##주', '##셨', '##어', '.', '무슨', '일정', '##인데', '?', '오늘', '팀', '회식', '후에', '영화', '관', '##람', '##을', '하기', '##로', '했어', '.', '진짜', '?', '어떤', '영화', '##인데', '?', '나는', '잘', '모르겠', '##어', '.', '부장', '##님이', '결정', '##하실', '거야', '.', '그래', '?', '나는', '액', '##션', '영화를', '보고', '싶어', '.', '아니야', '나는', '로맨스', '영화를', '보고', '싶어', '.', '그래', '?', '그럼', '우리', '그냥', '중립', '##적인', '영화를', '보자', '.', '좋아', '그렇게', '하자', '.', '그런데', '부장', '##님이', '오늘', '일정', '##도', '정해', '##주', '##셨', '##어', '.', '무슨', '일정', '##인데', '?', '오늘', '팀', '회식', '후에', '회사', '근처에', '있는', '대리', '##점을', '방문', '##하기로', '했어', '.', '그래', '?', '어떤', '대리', '##점', '##인데', '?', '나는', '잘', '모르겠', '##어', '.', '부장', '##님이', '결정', '##하실', '거야', '.', '그래', '?', '나는', '그냥', '팀', '회식', '##만', '하고', '싶어', '.', '아니야', '나는', '대리', '##점', '방문', '##도', '중요하다', '##고', '생각해', '.', '그래', '?', '그럼', '우리', '그냥', '부장', '##님이', '결정', '##하시는', '대로', '따라가', '##자', '.', '좋아', '그렇게', '하자', '.', '그런데', '부장', '##님이', '오늘', '일정', '##도', '정해', '##주', '##셨', '##어', '.', '무슨', '일정', '##인데', '?', '오늘', '팀', '회식', '후에', '회사', '근처에', '있는', '술집', '##에', '방문', '##하기로', '했어', '.', '그래', '?', '어떤', '술집', '##인데', '?', '나는', '잘', '모르겠', '##어', '.', '부장', '##님이', '결정', '##하실', '거야', '.', '그래', '?', '나는', '그냥', '팀', '회식', '##만', '하고', '싶어', '.', '아니야', '나는', '술집', '방문', '##도', '중요하다', '##고', '생각해', '.', '그래', '?', '그럼', '우리', '그냥', '부장', '##님이', '결정', '##하시는', '대로', '따라가', '##자', '.']\n",
      "\n",
      "\n",
      "10\n",
      "['안녕', '진짜', '오랜', '##만이', '##야', '!', '어떻게', '지', '##냈', '##어', '?', '안녕', '!', '나도', '잘', '지', '##냈', '##어', '그런데', '네가', '최근에', '직장', '##을', '옮', '##겼다', '##는', '소식', '##을', '들었', '##어', '.', '응', '내가', '다니', '##던', '회사에서', '부장', '##으로', '승진', '##해서', '더', '좋은', '회사', '##로', '이', '##직', '##했어', '.', '와', '진짜', '대단하다', '!', '그런데', '너가', '지금', '그', '회사에서', '어떤', '일을', '하고', '있는지', '알려', '##줄', '수', '있어', '?', '물론', '##이지', '!', '나는', '지금', '마케팅', '팀', '##에서', '일하고', '있어', '.', '우리', '팀', '##은', '새로운', '제품', '출시', '##를', '준비하고', '있어', '.', '대박', '!', '그런데', '네가', '말하는', '우리', '팀', '##이', '누구를', '말하는', '거야', '?', '우리', '팀', '##은', '모두', '5', '##명으로', '구성', '##되어', '있어', '.', '나와', '부장', '##님이', '리더', '##시고', '다른', '3명', '##의', '동료', '##들이', '있어', '.', '그래', '?', '부장', '##님은', '어떤', '분이', '##야', '?', '부장', '##님은', '굉장히', '열', '##정', '##적이', '##시고', '우리', '팀', '##을', '잘', '이끌어', '##주', '##셔', '.', '그리고', '우리', '팀원', '들', '##도', '모두', '열심히', '일하는', '좋은', '사람들이', '##야', '.', '좋아', '##보인다', '!', '그런데', '네가', '그', '회사에서', '일하는', '게', '만족', '##스러워', '?', '응', '나는', '지금', '일하는', '게', '정말', '만족', '##스러워', '.', '우리', '팀원', '들', '##과도', '잘', '지내', '##고', '일도', '재미', '##있어', '.', '그래', '?', '나도', '너처럼', '좋은', '직장', '##을', '구', '##하고', '싶어', '.', '그런데', '네가', '그', '회사에', '지원', '##할', '때', '어떤', '준비', '##가', '필요', '##했어', '?', '나는', '그때', '인턴', '##으로', '일', '##하던', '회사에서', '추천', '##서를', '받아서', '지원', '##했어', '.', '그리고', '면접', '##도', '잘', '보았', '##지', '.', '그래', '?', '나도', '인턴', '##으로', '일', '##하던', '회사에서', '추천', '##서를', '받아서', '지원해', '##야', '##겠다', '.', '그래', '추천', '##서는', '정말', '도움이', '많이', '돼', '.', '그리고', '면접', '##도', '준비를', '잘해서', '봐야', '해', '.', '알겠', '##어', '.', '네가', '알려', '##준', '##대로', '준비', '##해서', '좋은', '직장', '##을', '구', '##하고', '싶어', '.', '그래', '화이팅', '!', '그리고', '너가', '지금', '하고', '있는', '일도', '잘하고', '있으니까', '너무', '걱정', '##하지', '마', '.', '고마워', '!', '너도', '항상', '건강', '##하고', '좋은', '일만', '가득', '##하길', '바랄', '##게', '.', '고마워', '!', '나도', '너', '##에게', '같은', '말을', '전', '##하고', '싶어', '.']\n",
      "\n",
      "\n",
      "11\n",
      "['안녕', '오늘', '날씨', '진짜', '좋아', '.', '우리', '오랜만에', '밖에', '나가서', '산책', '##할까', '?', '그래', '좋은', '생각이다', '.', '그런데', '지금', '시간이', '어때', '?', '지금이', '딱', '좋아', '.', '우리', '지금', '바로', '나가', '##자', '.', '좋아', '제발', '너무', '멀리', '가지', '말자', '.', '우리', '오늘', '일정', '정해', '##야', '##하잖아', '.', '그래', '알았어', '.', '그냥', '근처', '공', '##원에서', '산책', '##하고', '오', '##자', '.', '좋아', '그럼', '지금', '바로', '나가', '##자', '.', '안녕', '교수님', '.', '오늘', '수업', '##에서', '배운', '내용', '##에', '대해', '질문', '##이', '있어요', '.', '무슨', '질문', '##인데', '?', '교수님', '지금', '배운', '개념이', '이해가', '잘', '안', '가', '##요', '.', '제발', '다시', '설명', '##해', '주', '##실', '수', '있나요', '?', '아', '그', '개념이', '##구나', '.', '미안해', '내가', '다시', '설명', '##해줄게', '.', '감사합니다', '교수님', '.', '그래', '너가', '이해', '##하는', '게', '중요', '##해', '.', '형', '나', '오늘', '진짜', '안', '좋은', '일이', '있었', '##어', '.', '무슨', '일이', '##야', '?', '아니', '그냥', '그', '사람이', '나를', '너무', '괴롭', '##혀서', '화가', '났', '##어', '.', '진짜', '너무', '##해', '.', '그래', '?', '네가', '너무', '화나', '##는', '일이', '있었구나', '.', '제발', '화', '##내지', '말고', '그냥', '잊', '##어버', '##려', '.', '아니', '그냥', '잊', '##어버', '##릴', '수', '없어', '.', '너무', '화가', '나', '.', '그래', '알았어', '.', '하지만', '너가', '화를', '내면', '더', '힘들어', '##질', '거야', '.', '제발', '그냥', '잊', '##어버리고', '다른', '일에', '집중', '##해', '.', '엄마', '나', '오늘', '너무', '배가', '고', '##파', '.', '그래', '?', '뭐', '먹고', '싶어', '?', '아니', '그냥', '아무', '##거나', '.', '오늘', '뭐', '먹을', '##지', '정', '##할', '수', '있어', '?', '그래', '그럼', '지금', '뭐', '먹을', '##지', '정해', '##보자', '.', '좋아', '제발', '맛', '##있는', '거랑', '사', '##줘', '.', '알았어', '맛', '##있는', '거랑', '사', '##줄게', '.', '여', '##보', '오늘', '우리', '데이트', '뭐', '할까', '?', '무슨', '아이디어', '있어', '?', '아니', '그냥', '동네', '##에서', '맛', '##있는', '거랑', '사먹', '##고', '영화', '보러', '갈까', '?', '그래', '좋은', '생각이다', '.', '좋아', '지금', '바로', '준비', '##하자', '.', '좋아', '알았어', '.', '친구', '##야', '나', '오늘', '진짜', '안', '좋은', '일이', '있었', '##어', '.', '무슨', '일이', '##야', '?', '아니', '그냥', '그', '사람이', '나를', '너무', '괴롭', '##혀서', '화가', '났', '##어', '.', '진짜', '너무', '##해', '.', '그래', '?', '네가', '너무', '화나', '##는', '일이', '있었구나', '.', '제발', '화', '##내지', '말고', '그냥', '잊', '##어버', '##려', '.', '아니', '그냥', '잊', '##어버', '##릴', '수', '없어', '.', '너무', '화가', '나', '.', '그래', '알았어', '.', '하지만', '너가', '화를', '내면', '더', '힘들어', '##질', '거야', '.', '제발', '그냥', '잊', '##어버리고', '다른', '일에', '집중', '##해', '.']\n",
      "\n",
      "\n",
      "12\n",
      "['지금', '진짜', '우리', '진짜로', '제발', '그', '얘기', '그만', '해', '.', '아니야', '그', '사람', '진짜', '문제', '있어', '.', '진짜', '?', '무슨', '문제가', '있는데', '?', '그냥', '그', '사람', '뭐', '##랄까', '이상한', '사람이야', '.', '그래', '?', '무슨', '점', '##이', '이상한', '##데', '?', '그거', '##야', '그냥', '그', '사람이', '너무', '자주', '없어', '##져', '.', '그래', '?', '없어', '##져', '?', '왜', '없어지는', '데', '?', '그거', '##야', '그냥', '그', '사람이', '너무', '바빠', '##서', '없어지는', '거야', '.', '그래', '?', '너무', '바빠', '##서', '?', '그래', '무슨', '일을', '하는', '데', '그래', '?', '그거', '##야', '그냥', '그', '사람이', '너무', '많은', '일을', '해서', '없어지는', '거야', '.', '그래', '?', '너무', '많은', '일을', '해서', '?', '그래', '무슨', '일을', '하는', '데', '그래', '?', '그거', '##야', '그냥', '그', '사람이', '너무', '많은', '일을', '해서', '없어지는', '거야', '.', '그래', '?', '너무', '많은', '일을', '해서', '?', '그럼', '그', '사람이', '없어지는', '게', '당연한', '거네', '.', '아니', '아니야', '.', '그', '사람이', '없어지는', '건', '너무', '이상한', '거야', '.', '그래', '?', '너무', '이상한', '거야', '?', '그래', '그럼', '그', '사람이', '없어지는', '게', '왜', '이상한', '거야', '?', '그거', '##야', '그냥', '그', '사람이', '너무', '자주', '없어', '##져', '.', '너무', '자주', '없어지', '##니까', '이상한', '거야', '.', '그래', '?', '너무', '자주', '없어지', '##니까', '이상한', '거야', '?', '그래', '그럼', '그', '사람이', '없어지는', '게', '문제', '##이네', '.', '그래', '바로', '그거', '##야', '.', '그', '사람이', '없어지는', '게', '문제야', '.', '그래', '?', '그', '사람이', '없어지는', '게', '문제야', '?', '그래', '그럼', '그', '사람이', '없어지는', '걸', '어떻게', '해결할', '수', '있을까', '?', '그거', '##야', '그냥', '그', '사람이', '없어지는', '걸', '해결할', '수', '없어', '.', '그', '사람이', '없어지는', '걸', '그냥', '받아들', '##여야', '해', '.', '그래', '?', '그', '사람이', '없어지는', '걸', '그냥', '받아들', '##여야', '해', '?', '그래', '그럼', '그', '사람이', '없어지는', '걸', '어떻게', '받아들', '##여야', '해', '?', '그거', '##야', '그냥', '그', '사람이', '없어지는', '걸', '받아들', '##여야', '해', '.', '그', '사람이', '없어지는', '걸', '그냥', '받아들', '##여야', '해', '.', '그래', '?', '그', '사람이', '없어지는', '걸', '그냥', '받아들', '##여야', '해', '?', '그래', '그럼', '그', '사람이', '없어지는', '걸', '어떻게', '받아들', '##여야', '할까', '?', '그거', '##야', '그냥', '그', '사람이', '없어지는', '걸', '받아들', '##여야', '해', '.', '그', '사람이', '없어지는', '걸', '그냥', '받아들', '##여야', '해', '.']\n",
      "\n",
      "\n",
      "13\n",
      "['부자', '관계', '격', '##한', '감정', '진짜', '지금', '당장', '네', '방', '##에', '있는', '물건', '##들', '다', '치워', '!', '아니', '왜', '##요', '?', '네', '방', '##이', '너무', '지저분', '##하잖아', '.', '제발', '좀', '정리', '##해', '!', '죄송합니다', '.', '하지만', '오늘은', '정말', '바빠', '##서', '시간이', '없어요', '.', '그래', '?', '그럼', '내일', '바로', '치워', '.', '알았어', '?', '부부', '관계', '일반', '##적', '감정', '여', '##보', '우리', '오늘', '저녁', '뭐', '먹을', '##까요', '?', '글쎄', '무슨', '음식', '##이', '먹고', '싶지', '?', '그냥', '간단', '##하게', '라면', '먹을', '##까', '?', '아니', '너무', '자주', '먹', '##잖아', '.', '다른', '메뉴', '##를', '정', '##하자', '.', '그래', '그러면', '오늘', '저녁', '##은', '뭐가', '좋을', '##까', '?', '교수', '-', '학생', '관계', '일반', '##적', '감정', '학생', '과', '##제는', '제출', '##했니', '?', '네', '교수님', '.', '방금', '제출', '##했습니다', '.', '그래', '?', '그럼', '지금', '바로', '확인', '##해보자', '.', '네', '교수님', '.', '아니', '이게', '아니잖아', '.', '다시', '해', '##와야', '##겠어', '.', '죄송합니다', '교수님', '.', '지시', '또는', '위', '##계', '관계', '일반', '##적', '감정', '팀장', '님', '지금', '회의', '##에서', '중요한', '안', '##건이', '나왔는데', '##요', '.', '무슨', '안', '##건이', '나왔', '##어', '?', '제가', '준비', '##한', '보고서', '##에', '대한', '피드백', '이', '있었', '##습니다', '.', '그래', '?', '그럼', '지금', '바로', '알려', '##줘', '.', '네', '팀장', '님', '.', '그런데', '일부', '내용이', '부족하다', '##고', '합니다', '.', '아니', '그럼', '어떻게', '해야', '하지', '?', '다시', '수정', '##해서', '제출', '##하겠습니다', '.', '친구', '관계', '격', '##한', '감정', '진짜', '너', '왜', '이렇게', '무', '##심', '##해', '?', '무슨', '일이', '##야', '?', '어제', '내가', '전화', '##했을', '때', '왜', '받지', '않은', '거야', '?', '미안해', '무슨', '일', '있었', '##어', '?', '아니', '그냥', '얘기하고', '싶', '##었는데', '.', '그래', '미안해', '.', '다음에', '그럴', '일', '없을', '##게', '.', '형제', '##자', '##매', '관계', '일반', '##적', '감정', '동생', '오늘', '약속', '있어서', '나가', '##봐야', '해', '.', '그래', '무슨', '약속', '##이야', '?', '친구들', '##이랑', '저녁', '먹기', '##로', '했어', '.', '무슨', '음식', '먹', '##으러', '가는데', '?', '그냥', '간단', '##하게', '피자', '먹을', '##까', '해', '.', '그래', '그럼', '나중에', '전화', '##할게', '.', '기타', '관계', '일반', '##적', '감정', '친구', '##야', '요즘', '날씨', '진짜', '어떡해', '?', '그지', '?', '너무', '덥', '##지', '않아', '?', '그래', '너무', '더', '##워서', '밖에', '나가', '##기', '싫어', '.', '그럼', '실', '##내에서', '할', '수', '있는', '거', '찾아', '##보자', '.', '그래', '좋은', '생각이다', '.', '아니', '그럼', '영화', '보러', '갈까', '?', '좋아', '그럼', '오늘', '저녁', '##에', '만나', '##자', '.']\n",
      "\n",
      "\n",
      "14\n",
      "['그래', '오늘', '날씨', '##가', '진짜', '좋네', '.', '어때', '우리', '산책', '##할까', '?', '좋은', '생각', '##인', '것', '같아', '.', '그런데', '지금', '시간이', '어때', '?', '지금', '딱', '좋아', '.', '한', '시간', '정도', '걸리면', '충분', '##할', '거야', '.', '좋아', '가자', '.', '그런데', '우리가', '그냥', '아무데나', '가면', '어떡해', '?', '아니야', '나는', '미리', '검색', '##해', '##뒀', '##어', '.', '좋은', '산책', '##로가', '있', '##대', '.', '그래', '그럼', '나도', '가', '##볼', '##게', '.', '그런데', '제발', '너무', '멀리', '가지', '말자', '.', '그래', '걱정', '마', '.', '너무', '멀지', '않은', '곳이', '##니까', '.', '좋아', '그럼', '지금', '바로', '갈', '##게', '.', '그런데', '내가', '오늘', '교수님', '연구', '##에', '참여', '##하느냐', '안', '하느', '##냐', '##에', '따라', '시간이', '달라질', '수', '있어', '.', '아니', '그럴', '필요', '없어', '.', '교수님', '##은', '네가', '오늘', '연구', '##에', '참여', '##하지', '않아도', '괜찮다고', '하셨', '##어', '.', '진짜', '?', '그럼', '다행', '##이야', '.', '그럼', '지금', '바로', '갈', '##게', '.', '좋아', '그럼', '만나', '##자', '.', '제발', '지금', '바로', '그', '문제를', '해결해', '##야', '해', '.', '너무', '늦', '##어지', '##면', '안', '돼', '.', '그래', '하지만', '내가', '지금', '바빠', '##서', '바로', '처리', '##할', '수', '없어', '.', '아니야', '이건', '정말', '중요한', '문제야', '.', '내가', '도와줄', '##까', '?', '아니', '괜찮아', '.', '내가', '알아서', '처리', '##할게', '.', '하지만', '진짜', '고마워', '.', '그래', '그럼', '내가', '도와줄', '##게', '.', '내가', '지금', '바로', '그', '문제를', '해결할', '##게', '.', '아니야', '정말', '고마워', '.', '하지만', '내가', '해결', '##하는', '게', '더', '좋아', '.', '좋아', '그럼', '내가', '기다릴', '##게', '.', '하지만', '너무', '늦', '##어지', '##면', '안', '돼', '.', '그래', '알았어', '.', '최대한', '빨리', '해결', '##하도록', '노력', '##할게', '.', '좋아', '그럼', '지금', '바로', '다른', '일을', '처리', '##할게', '.', '그래', '고마워', '.', '그', '사람', '진짜', '별로', '##야', '.', '오늘', '나한테', '너무', '무례', '##하게', '굴', '##었어', '.', '그래', '나도', '그', '사람한테', '좀', '실망', '##했어', '.', '아니야', '나는', '그', '사람한테', '너무', '화가', '나', '.', '그래', '나도', '그', '사람한테', '실망', '##했어', '.', '하지만', '너무', '화를', '내지', '##는', '말자', '.', '아니야', '나는', '그', '사람한테', '진짜', '사과를', '받고', '싶어', '.', '그래', '나도', '그', '사람한테', '실망', '##했어', '.', '하지만', '너무', '화를', '내지', '##는', '말자', '.', '좋아', '그럼', '내가', '그', '사람에게', '사과를', '요구', '##할게', '.', '그래', '좋아', '.', '하지만', '너무', '화를', '내지', '##는', '말자', '.', '그래', '알았어', '.', '내가', '그', '사람에게', '사과를', '요구', '##할게', '.', '좋아', '그럼', '지금', '바로', '처리', '##하자', '.', '우리', '오늘', '데이트', '어때', '?', '그래', '좋은', '생각', '##인', '것', '같아', '.', '하지만', '내가', '지금', '바빠', '##서', '어떡해', '?', '아니야', '나는', '미리', '예약', '##해', '##뒀', '##어', '.', '오늘', '저녁', '##에', '맛', '##있는', '음식', '##이', '기다리고', '있어', '.', '진짜', '?', '그럼', '나도', '가', '##볼', '##게', '.', '좋아', '그럼', '지금', '바로', '가자', '.', '그래', '고마워', '.', '그래', '알았어', '.', '오늘', '저녁', '##에', '만나', '##자', '.', '좋아', '그럼', '지금', '바로', '준비', '##할게', '.', '좋아', '그럼', '만나', '##자', '.', '교수님', '죄송합니다', '.', '오늘', '연구', '##에', '참여', '##하지', '못하겠', '##습니다', '.', '아니', '왜', '?', '무슨', '일이', '##야', '?', '제발', '오늘은', '가족과', '함께', '시간을', '보내고', '싶습니다', '.', '그래', '알았어', '.', '하지만', '너무', '자주', '빠지', '##지는', '말자', '.', '아니', '죄송합니다', '.', '다음에는', '꼭', '참여', '##하겠습니다', '.', '그래', '알았어', '.', '그럼', '오늘', '가족들', '##과', '즐거', '##운', '시간', '보내', '.', '고마워', '##요', '교수님', '.', '그래', '알았어', '.', '그', '사람', '진짜', '별로', '##야', '.', '오늘', '나한테', '너무', '무례', '##하게', '굴', '##었어', '.', '그래', '나도', '그', '사람한테', '좀', '실망', '##했어', '.', '아니야', '나는', '그', '사람한테', '너무', '화가', '나', '.', '그래', '나도', '그', '사람한테', '실망', '##했어', '.', '하지만', '너무', '화를', '내지', '##는', '말자', '.', '아니야', '나는', '그', '사람한테', '진짜', '사과를', '받고', '싶어', '.', '그래', '나도', '그', '사람한테', '실망', '##했어', '.', '하지만', '너무', '화를', '내지', '##는', '말자', '.', '좋아', '그럼', '내가', '그', '사람에게', '사과를', '요구', '##할게', '.', '그래', '좋아', '.', '하지만', '너무', '화를', '내지', '##는', '말자', '.', '그래', '알았어', '.', '내가', '그', '사람에게', '사과를', '요구', '##할게', '.', '좋아', '그럼', '지금', '바로', '처리', '##하자', '.']\n",
      "\n",
      "\n",
      "15\n",
      "['어', '오늘', '날씨', '진짜', '좋네', '.', '그래', '진짜', '좋아', '.', '우리', '오늘', '뭐', '할까', '?', '나는', '영화', '보는', '거', '좋아하는', '##데', '영화', '?', '무슨', '영화', '볼', '##까', '?', '나는', '최근에', '나온', '액', '##션', '영화', '보고', '싶어', '.', '응', '나도', '액', '##션', '영화', '좋아', '##해', '.', '어', '근데', '오늘', '같이', '볼', '친구', '없어', '?', '아', '미안한', '##데', '오늘은', '친구들', '##이', '다', '바빠', '##서', '안', '돼', '.', '아', '그래', '?', '그럼', '우리', '그냥', '혼자서', '보러', '갈까', '?', '응', '그래', '.', '어', '근데', '티', '##켓', '##은', '어떻게', '할', '거야', '?', '아', '나는', '지금', '돈이', '없어서', '너가', '먼저', '결제', '##해', '줄', '##래', '?', '응', '그래', '.', '고마워', '.', '아니야', '문제', '없어', '.', '어', '근데', '영화', '##가', '너무', '길', '##면', '지', '##루', '##할', '것', '같아', '.', '응', '그럴', '수', '있지', '.', '그럼', '우리는', '다른', '거', '볼', '##까', '?', '어', '그래', '뭐', '볼', '##까', '?', '나는', '최근에', '나온', '드라마', '##도', '보고', '싶어', '.', '어', '나도', '드라마', '좋아', '##해', '.', '응', '그럼', '우리', '드라마', '볼', '##까', '?', '응', '그래', '.', '어', '근데', '드라마', '##는', '어디서', '볼', '##까', '?', '나는', '집에', 'TV', '##가', '없어서', '인터넷으로', '볼', '##래', '.', '아', '그래', '?', '그럼', '우리', '내', '집에서', '볼', '##까', '?', '응', '그래', '.', '어', '근데', '나는', '집에', '드라마', '##가', '없어', '.', '어', '그래', '?', '그럼', '우리', '인터넷에서', '스트', '##리', '##밍', '##으로', '볼', '##까', '?', '응', '그래', '.', '어', '근데', '우리', '그냥', '오늘', '같이', '밥', '먹으면서', '얘기', '##할까', '?', '어', '그래', '좋은', '생각', '##인', '것', '같아', '.', '응', '그래', '.', '그럼', '우리는', '어디서', '밥', '먹을', '##까', '?', '나는', '오늘', '치킨', '먹고', '싶어', '.', '아', '그래', '?', '나도', '치킨', '좋아', '##해', '.', '응', '그럼', '우리', '치킨', '집에', '갈까', '?', '응', '그래', '.', '어', '근데', '우리는', '어디로', '갈까', '?', '나는', '근처에', '있는', '치킨', '집을', '알고', '있어', '.', '어', '그래', '?', '그럼', '거기', '갈까', '?', '응', '그래', '.', '좋아', '그럼', '우리', '지금', '출발', '##할까', '?', '응', '그래', '.', '어', '근데', '우리', '지금', '갈까', '아니면', '조금', '더', '있다가', '갈까', '?', '아', '나는', '지금', '가고', '싶어', '.', '응', '그래', '?', '그럼', '지금', '출발', '##할까', '?', '응', '그래', '.', '좋아', '그럼', '우리', '지금', '출발', '##하자', '.', '응', '그래', '.']\n",
      "\n",
      "\n",
      "16\n",
      "['오늘', '날씨', '##가', '너무', '좋아서', '야외', '활동을', '하기', '##에', '딱', '좋은', '것', '같아', '.', '그래', '진짜', '그래', '.', '오늘은', '산', '##에', '가서', '하이', '##킹', '##을', '하는', '게', '어때', '?', '좋은', '생각', '##인데', '하지만', '우리', '지금', '시간이', '부족해서', '오늘', '할', '수', '있을지', '##는', '모르겠', '##어', '.', '아', '그래', '?', '그럼', '내일', '아침에', '일어나', '##자마자', '가는', '건', '어때', '?', '아니', '내일', '##도', '시간이', '안', '될', '것', '같아', '.', '너무', '바빠', '##서', '아무것도', '할', '수', '없을', '것', '같아', '.', '그럼', '이번', '주말에', '가는', '건', '어때', '?', '제발', '한번', '시도', '##해', '보자', '.', '그래', '좋아', '.', '이번', '주말에', '가는', '걸로', '하자', '.', '그런데', '메뉴', '##는', '어떻게', '정', '##할까', '?', '그냥', '간단한', '도시락', '##으로', '준비', '##하자', '.', '그리고', '음료수', '는', '충분한', '##지', '확인', '##하자', '.', '그래', '좋은', '생각이', '##야', '.', '그런데', '등', '##산', '##로는', '어디로', '갈까', '?', '나는', '우리가', '이전에', '갔', '##던', '그', '등', '##산', '##로가', '좋은', '것', '같아', '.', '거기에', '##는', '좋은', '경', '##치', '##와', '함께', '멋진', '폭', '##포', '##도', '있어', '.', '그래', '그', '등', '##산', '##로가', '좋을', '것', '같아', '.', '그런데', '우리는', '어떤', '옷을', '입', '##어야', '할까', '?', '나는', '편안', '##한', '운동', '##복', '##과', '함께', '등', '##산', '##화를', '신', '##는', '게', '좋을', '것', '같아', '.', '그리고', '모자', '##나', '선', '##글', '##라스', '##도', '준비', '##하자', '.', '그래', '좋은', '생각이', '##야', '.', '그런데', '우리는', '어떤', '도', '##구를', '가져가', '##야', '할까', '?', '우리는', '지도', '##와', '나', '##침', '##반', '그리고', '물', '##병', '##과', '간식', '을', '가져가', '##는', '게', '좋을', '것', '같아', '.', '그래', '좋아', '.', '그런데', '우리가', '길을', '잃', '##을', '경우', '어떻게', '해야', '할까', '?', '우리는', '미리', '계획', '##을', '세우고', '그', '계획', '##에', '따라', '움직이는', '게', '좋을', '것', '같아', '.', '그리고', '만약', '길을', '잃', '##게', '되면', '침착', '하게', '생각하고', '지도', '##와', '나', '##침', '##반', '##을', '사용', '##하여', '길을', '찾아야', '해', '.', '그래', '좋아', '.', '그런데', '만약', '비상', '상황이', '발생', '##하면', '어떻게', '해야', '할까', '?', '우리는', '미리', '비상', '연락', '##망을', '준비하고', '만약', '비상', '상황이', '발생', '##하면', '그', '연락', '##망을', '사용', '##하여', '도움을', '요청', '##해야', '해', '.', '그래', '좋아', '.', '그런데', '만약', '우리가', '다', '##치게', '되면', '어떻게', '해야', '할까', '?', '우리는', '미리', '응급', '처', '##치', '키트', '##를', '준비하고', '만약', '다', '##치게', '되면', '그', '키트', '##를', '사용', '##하여', '응급', '처', '##치를', '해야', '해', '.']\n",
      "\n",
      "\n"
     ]
    }
   ],
   "source": [
    "count = 0\n",
    "for i in range(len(tokenized_texts)):\n",
    "    if token_lengths[i]>300:\n",
    "        print(count)\n",
    "        print(tokenized_texts[i])\n",
    "        print('\\n')\n",
    "        count += 1"
   ]
  },
  {
   "cell_type": "code",
   "execution_count": 26,
   "id": "e508e3b2",
   "metadata": {},
   "outputs": [],
   "source": [
    "# 최대 토큰 인텍스, 문장, 토큰 수 확인\n",
    "max_token_idx = token_lengths.index(max(token_lengths))  # 가장 긴 문장의 인덱스\n",
    "max_token_text = train_data['conversation'].iloc[max_token_idx]  # 해당 문장\n",
    "max_token_count = token_lengths[max_token_idx]"
   ]
  },
  {
   "cell_type": "code",
   "execution_count": 27,
   "id": "d843a0d6",
   "metadata": {
    "scrolled": true
   },
   "outputs": [
    {
     "data": {
      "text/plain": [
       "' 그래 오늘 날씨가 진짜 좋네. 어때 우리 산책할까? 좋은 생각인 것 같아. 그런데 지금 시간이 어때? 지금 딱 좋아. 한 시간 정도 걸리면 충분할 거야. 좋아 가자. 그런데 우리가 그냥 아무데나 가면 어떡해? 아니야 나는 미리 검색해뒀어. 좋은 산책로가 있대. 그래 그럼 나도 가볼게. 그런데 제발 너무 멀리 가지 말자. 그래 걱정 마. 너무 멀지 않은 곳이니까. 좋아 그럼 지금 바로 갈게. 그런데 내가 오늘 교수님 연구에 참여하느냐 안 하느냐에 따라 시간이 달라질 수 있어. 아니 그럴 필요 없어. 교수님은 네가 오늘 연구에 참여하지 않아도 괜찮다고 하셨어. 진짜? 그럼 다행이야. 그럼 지금 바로 갈게. 좋아 그럼 만나자. 제발 지금 바로 그 문제를 해결해야 해. 너무 늦어지면 안 돼. 그래 하지만 내가 지금 바빠서 바로 처리할 수 없어. 아니야 이건 정말 중요한 문제야. 내가 도와줄까? 아니 괜찮아. 내가 알아서 처리할게. 하지만 진짜 고마워. 그래 그럼 내가 도와줄게. 내가 지금 바로 그 문제를 해결할게. 아니야 정말 고마워. 하지만 내가 해결하는 게 더 좋아. 좋아 그럼 내가 기다릴게. 하지만 너무 늦어지면 안 돼. 그래 알았어. 최대한 빨리 해결하도록 노력할게. 좋아 그럼 지금 바로 다른 일을 처리할게. 그래 고마워. 그 사람 진짜 별로야. 오늘 나한테 너무 무례하게 굴었어. 그래 나도 그 사람한테 좀 실망했어. 아니야 나는 그 사람한테 너무 화가 나. 그래 나도 그 사람한테 실망했어. 하지만 너무 화를 내지는 말자. 아니야 나는 그 사람한테 진짜 사과를 받고 싶어. 그래 나도 그 사람한테 실망했어. 하지만 너무 화를 내지는 말자. 좋아 그럼 내가 그 사람에게 사과를 요구할게. 그래 좋아. 하지만 너무 화를 내지는 말자. 그래 알았어. 내가 그 사람에게 사과를 요구할게. 좋아 그럼 지금 바로 처리하자. 우리 오늘 데이트 어때? 그래 좋은 생각인 것 같아. 하지만 내가 지금 바빠서 어떡해? 아니야 나는 미리 예약해뒀어. 오늘 저녁에 맛있는 음식이 기다리고 있어. 진짜? 그럼 나도 가볼게. 좋아 그럼 지금 바로 가자. 그래 고마워. 그래 알았어. 오늘 저녁에 만나자. 좋아 그럼 지금 바로 준비할게. 좋아 그럼 만나자. 교수님 죄송합니다. 오늘 연구에 참여하지 못하겠습니다. 아니 왜? 무슨 일이야? 제발 오늘은 가족과 함께 시간을 보내고 싶습니다. 그래 알았어. 하지만 너무 자주 빠지지는 말자. 아니 죄송합니다. 다음에는 꼭 참여하겠습니다. 그래 알았어. 그럼 오늘 가족들과 즐거운 시간 보내. 고마워요 교수님. 그래 알았어. 그 사람 진짜 별로야. 오늘 나한테 너무 무례하게 굴었어. 그래 나도 그 사람한테 좀 실망했어. 아니야 나는 그 사람한테 너무 화가 나. 그래 나도 그 사람한테 실망했어. 하지만 너무 화를 내지는 말자. 아니야 나는 그 사람한테 진짜 사과를 받고 싶어. 그래 나도 그 사람한테 실망했어. 하지만 너무 화를 내지는 말자. 좋아 그럼 내가 그 사람에게 사과를 요구할게. 그래 좋아. 하지만 너무 화를 내지는 말자. 그래 알았어. 내가 그 사람에게 사과를 요구할게. 좋아 그럼 지금 바로 처리하자.'"
      ]
     },
     "execution_count": 27,
     "metadata": {},
     "output_type": "execute_result"
    }
   ],
   "source": [
    "max_token_text"
   ]
  },
  {
   "cell_type": "code",
   "execution_count": 28,
   "id": "a8d32349",
   "metadata": {},
   "outputs": [
    {
     "data": {
      "text/plain": [
       "599"
      ]
     },
     "execution_count": 28,
     "metadata": {},
     "output_type": "execute_result"
    }
   ],
   "source": [
    "max_token_count"
   ]
  },
  {
   "cell_type": "code",
   "execution_count": 29,
   "id": "02def820",
   "metadata": {},
   "outputs": [],
   "source": [
    "#MAX_LEN = max_token_count + 2 # 문장 최대 토큰 길이\n",
    "MAX_LEN = 300 # max length of bert model\n",
    "NUM_LABELS = 5  # 분류할 클래스 개수\n",
    "BATCH_SIZE = 8\n",
    "EPOCHS = 1"
   ]
  },
  {
   "cell_type": "code",
   "execution_count": 30,
   "id": "55c89279",
   "metadata": {},
   "outputs": [],
   "source": [
    "# 텍스트를 토큰화하는 함수\n",
    "def tokenize_texts(texts, labels):\n",
    "    encodings = tokenizer(\n",
    "        list(texts),  # 리스트 형태로 변환\n",
    "        padding=\"max_length\", \n",
    "        truncation=True, \n",
    "        max_length=MAX_LEN, \n",
    "        return_tensors=\"tf\"\n",
    "    )\n",
    "    return encodings[\"input_ids\"], encodings[\"attention_mask\"], tf.convert_to_tensor(labels, dtype=tf.int32)"
   ]
  },
  {
   "cell_type": "code",
   "execution_count": 31,
   "id": "472f9d55",
   "metadata": {},
   "outputs": [],
   "source": [
    "# 데이터 분할 (8:2 비율로 train/val 나누기)\n",
    "train_texts, val_texts, train_labels, val_labels = train_test_split(\n",
    "    train_data['conversation'], train_data['int_class'], test_size=0.2, random_state=42\n",
    ")"
   ]
  },
  {
   "cell_type": "code",
   "execution_count": 32,
   "id": "79509939",
   "metadata": {},
   "outputs": [],
   "source": [
    "# 데이터 토큰화\n",
    "train_input_ids, train_attention_mask, train_labels = tokenize_texts(train_texts, train_labels)\n",
    "val_input_ids, val_attention_mask, val_labels = tokenize_texts(val_texts, val_labels)"
   ]
  },
  {
   "cell_type": "code",
   "execution_count": 33,
   "id": "ca32a26f",
   "metadata": {},
   "outputs": [],
   "source": [
    "# TensorFlow Dataset 생성\n",
    "train_dataset = tf.data.Dataset.from_tensor_slices(\n",
    "    ({\"input_ids\": train_input_ids, \"attention_mask\": train_attention_mask}, train_labels)\n",
    ").shuffle(len(train_texts)).batch(BATCH_SIZE)\n",
    "\n",
    "val_dataset = tf.data.Dataset.from_tensor_slices(\n",
    "    ({\"input_ids\": val_input_ids, \"attention_mask\": val_attention_mask}, val_labels)\n",
    ").batch(BATCH_SIZE)"
   ]
  },
  {
   "cell_type": "code",
   "execution_count": 34,
   "id": "d0d8bd8f",
   "metadata": {},
   "outputs": [],
   "source": [
    "# 데이터 변환 (train_data['conversation'], train_data['int_class'] 사용)\n",
    "input_ids, attention_mask, label_tensor = tokenize_texts(train_data['conversation'], train_data['int_class'])\n",
    "\n",
    "# TensorFlow Dataset 생성\n",
    "dataset = tf.data.Dataset.from_tensor_slices(\n",
    "    ({\"input_ids\": input_ids, \"attention_mask\": attention_mask}, label_tensor)\n",
    ")\n",
    "\n",
    "# 배치 및 섞기\n",
    "dataset = dataset.shuffle(len(train_data)).batch(BATCH_SIZE)"
   ]
  },
  {
   "cell_type": "code",
   "execution_count": 35,
   "id": "a85bc946",
   "metadata": {},
   "outputs": [],
   "source": [
    "#from tensorflow.keras import backend as K"
   ]
  },
  {
   "cell_type": "code",
   "execution_count": 36,
   "id": "1a41c63f",
   "metadata": {},
   "outputs": [],
   "source": [
    "class F1Score(tf.keras.metrics.Metric):\n",
    "    def __init__(self, name=\"f1_score\", **kwargs):\n",
    "        super(F1Score, self).__init__(name=name, **kwargs)\n",
    "        self.precision = tf.keras.metrics.Precision()\n",
    "        self.recall = tf.keras.metrics.Recall()\n",
    "\n",
    "    def update_state(self, y_true, y_pred, sample_weight=None):\n",
    "        y_pred = tf.argmax(y_pred, axis=1)  # 가장 높은 확률값을 가진 클래스 선택\n",
    "        self.precision.update_state(y_true, y_pred)\n",
    "        self.recall.update_state(y_true, y_pred)\n",
    "\n",
    "    def result(self):\n",
    "        precision = self.precision.result()\n",
    "        recall = self.recall.result()\n",
    "        return 2 * ((precision * recall) / (precision + recall + K.epsilon()))  # F1-score 계산\n",
    "\n",
    "    def reset_state(self):\n",
    "        self.precision.reset_state()\n",
    "        self.recall.reset_state()"
   ]
  },
  {
   "cell_type": "code",
   "execution_count": 37,
   "id": "e832dfd0",
   "metadata": {
    "scrolled": false
   },
   "outputs": [
    {
     "name": "stdout",
     "output_type": "stream",
     "text": [
      "Model: \"model\"\n",
      "__________________________________________________________________________________________________\n",
      "Layer (type)                    Output Shape         Param #     Connected to                     \n",
      "==================================================================================================\n",
      "input_ids (InputLayer)          [(None, 300)]        0                                            \n",
      "__________________________________________________________________________________________________\n",
      "attention_mask (InputLayer)     [(None, 300)]        0                                            \n",
      "__________________________________________________________________________________________________\n",
      "tf_bert_model (TFBertModel)     TFBaseModelOutputWit 109003008   input_ids[0][0]                  \n",
      "                                                                 attention_mask[0][0]             \n",
      "__________________________________________________________________________________________________\n",
      "dropout_37 (Dropout)            (None, 768)          0           tf_bert_model[0][1]              \n",
      "__________________________________________________________________________________________________\n",
      "dense (Dense)                   (None, 256)          196864      dropout_37[0][0]                 \n",
      "__________________________________________________________________________________________________\n",
      "dropout_38 (Dropout)            (None, 256)          0           dense[0][0]                      \n",
      "__________________________________________________________________________________________________\n",
      "dense_1 (Dense)                 (None, 5)            1285        dropout_38[0][0]                 \n",
      "==================================================================================================\n",
      "Total params: 109,201,157\n",
      "Trainable params: 109,201,157\n",
      "Non-trainable params: 0\n",
      "__________________________________________________________________________________________________\n"
     ]
    }
   ],
   "source": [
    "input_ids = Input(shape=(MAX_LEN,), dtype=tf.int32, name=\"input_ids\")\n",
    "attention_mask = Input(shape=(MAX_LEN,), dtype=tf.int32, name=\"attention_mask\")\n",
    "\n",
    "# BERT 모델에 입력\n",
    "bert_output = model(input_ids, attention_mask=attention_mask)[1]\n",
    "x = Dropout(0.5)(bert_output)\n",
    "x = Dense(256, activation=\"relu\")(x)\n",
    "x = Dropout(0.5)(x)\n",
    "output = Dense(NUM_LABELS, activation=\"softmax\")(x)  # 다중 클래스 분류\n",
    "\n",
    "# 모델 정의\n",
    "model = Model(inputs=[input_ids, attention_mask], outputs=output)\n",
    "\n",
    "# 컴파일\n",
    "model.compile(\n",
    "    optimizer=tf.keras.optimizers.Adam(learning_rate=2e-5),\n",
    "    loss=tf.keras.losses.SparseCategoricalCrossentropy(from_logits=False),\n",
    "    metrics=[\"accuracy\"]\n",
    ")\n",
    "\n",
    "# 모델 구조 확인\n",
    "model.summary()"
   ]
  },
  {
   "cell_type": "code",
   "execution_count": 38,
   "id": "61d09479",
   "metadata": {},
   "outputs": [],
   "source": [
    "# EarlyStopping 콜백 설정 (patience=2)\n",
    "early_stopping = EarlyStopping(\n",
    "    monitor=\"val_loss\",  # 검증 데이터 손실 기준\n",
    "    patience=3,  # 3epoch 동안 개선되지 않으면 종료\n",
    "    restore_best_weights=True  # 가장 성능이 좋았던 가중치 복원\n",
    ")"
   ]
  },
  {
   "cell_type": "code",
   "execution_count": 39,
   "id": "f0466498",
   "metadata": {},
   "outputs": [],
   "source": [
    "# ModelCheckpoint 설정 (최적 모델 저장)\n",
    "model_checkpoint = ModelCheckpoint(\n",
    "    \"best_kobert_testB_ep1_dr04.h5\",  # 저장할 모델 파일명\n",
    "    monitor=\"val_loss\",  # 검증 손실 기준으로 저장\n",
    "    save_best_only=True,  # 가장 성능 좋은 모델만 저장\n",
    "    save_weights_only=True,  # 가중치만 저장 (전체 모델 저장하려면 False)\n",
    "    verbose=1  # 저장될 때 로그 출력\n",
    ")"
   ]
  },
  {
   "cell_type": "code",
   "execution_count": 40,
   "id": "62d2749f",
   "metadata": {},
   "outputs": [],
   "source": [
    "#print(early_stopping)  # 정상적으로 설정되었는지 확인\n",
    "#print(model_checkpoint)"
   ]
  },
  {
   "cell_type": "code",
   "execution_count": 41,
   "id": "c2f7055b",
   "metadata": {
    "scrolled": true
   },
   "outputs": [
    {
     "name": "stdout",
     "output_type": "stream",
     "text": [
      "Epoch 1/2\n",
      "554/554 [==============================] - 325s 558ms/step - loss: 0.6542 - accuracy: 0.7677 - val_loss: 0.2829 - val_accuracy: 0.9051\n",
      "\n",
      "Epoch 00001: val_loss improved from inf to 0.28295, saving model to best_kobert_testB_ep1_dr04.h5\n",
      "Epoch 2/2\n",
      "554/554 [==============================] - 310s 559ms/step - loss: 0.2540 - accuracy: 0.9261 - val_loss: 0.2868 - val_accuracy: 0.9160\n",
      "\n",
      "Epoch 00002: val_loss did not improve from 0.28295\n"
     ]
    }
   ],
   "source": [
    "history = model.fit(\n",
    "    train_dataset,\n",
    "    validation_data=val_dataset,\n",
    "    epochs=EPOCHS,\n",
    "    callbacks=[model_checkpoint]\n",
    ")"
   ]
  },
  {
   "cell_type": "code",
   "execution_count": 58,
   "id": "eaae931c",
   "metadata": {},
   "outputs": [
    {
     "name": "stderr",
     "output_type": "stream",
     "text": [
      "Cannot find the requested files in the cached path and outgoing traffic has been disabled. To enable model look-ups and downloads online, set 'local_files_only' to False.\n"
     ]
    },
    {
     "ename": "OSError",
     "evalue": "Can't load config for '<keras.callbacks.ModelCheckpoint object at 0x7995130d0a60>'. Make sure that:\n\n- '<keras.callbacks.ModelCheckpoint object at 0x7995130d0a60>' is a correct model identifier listed on 'https://huggingface.co/models'\n\n- or '<keras.callbacks.ModelCheckpoint object at 0x7995130d0a60>' is the correct path to a directory containing a config.json file\n\n",
     "output_type": "error",
     "traceback": [
      "\u001b[0;31m---------------------------------------------------------------------------\u001b[0m",
      "\u001b[0;31mFileNotFoundError\u001b[0m                         Traceback (most recent call last)",
      "\u001b[0;32m/opt/conda/lib/python3.9/site-packages/transformers/configuration_utils.py\u001b[0m in \u001b[0;36mget_config_dict\u001b[0;34m(cls, pretrained_model_name_or_path, **kwargs)\u001b[0m\n\u001b[1;32m    545\u001b[0m             \u001b[0;31m# Load from URL or cache if already cached\u001b[0m\u001b[0;34m\u001b[0m\u001b[0;34m\u001b[0m\u001b[0m\n\u001b[0;32m--> 546\u001b[0;31m             resolved_config_file = cached_path(\n\u001b[0m\u001b[1;32m    547\u001b[0m                 \u001b[0mconfig_file\u001b[0m\u001b[0;34m,\u001b[0m\u001b[0;34m\u001b[0m\u001b[0;34m\u001b[0m\u001b[0m\n",
      "\u001b[0;32m/opt/conda/lib/python3.9/site-packages/transformers/file_utils.py\u001b[0m in \u001b[0;36mcached_path\u001b[0;34m(url_or_filename, cache_dir, force_download, proxies, resume_download, user_agent, extract_compressed_file, force_extract, use_auth_token, local_files_only)\u001b[0m\n\u001b[1;32m   1401\u001b[0m         \u001b[0;31m# URL, so get it from the cache (downloading if necessary)\u001b[0m\u001b[0;34m\u001b[0m\u001b[0;34m\u001b[0m\u001b[0m\n\u001b[0;32m-> 1402\u001b[0;31m         output_path = get_from_cache(\n\u001b[0m\u001b[1;32m   1403\u001b[0m             \u001b[0murl_or_filename\u001b[0m\u001b[0;34m,\u001b[0m\u001b[0;34m\u001b[0m\u001b[0;34m\u001b[0m\u001b[0m\n",
      "\u001b[0;32m/opt/conda/lib/python3.9/site-packages/transformers/file_utils.py\u001b[0m in \u001b[0;36mget_from_cache\u001b[0;34m(url, cache_dir, force_download, proxies, etag_timeout, resume_download, user_agent, use_auth_token, local_files_only)\u001b[0m\n\u001b[1;32m   1619\u001b[0m                 \u001b[0;32mif\u001b[0m \u001b[0mlocal_files_only\u001b[0m\u001b[0;34m:\u001b[0m\u001b[0;34m\u001b[0m\u001b[0;34m\u001b[0m\u001b[0m\n\u001b[0;32m-> 1620\u001b[0;31m                     raise FileNotFoundError(\n\u001b[0m\u001b[1;32m   1621\u001b[0m                         \u001b[0;34m\"Cannot find the requested files in the cached path and outgoing traffic has been\"\u001b[0m\u001b[0;34m\u001b[0m\u001b[0;34m\u001b[0m\u001b[0m\n",
      "\u001b[0;31mFileNotFoundError\u001b[0m: Cannot find the requested files in the cached path and outgoing traffic has been disabled. To enable model look-ups and downloads online, set 'local_files_only' to False.",
      "\nDuring handling of the above exception, another exception occurred:\n",
      "\u001b[0;31mOSError\u001b[0m                                   Traceback (most recent call last)",
      "\u001b[0;32m/tmp/ipykernel_31/2033683156.py\u001b[0m in \u001b[0;36m<module>\u001b[0;34m\u001b[0m\n\u001b[0;32m----> 1\u001b[0;31m \u001b[0mmodel\u001b[0m \u001b[0;34m=\u001b[0m \u001b[0mTFBertModel\u001b[0m\u001b[0;34m.\u001b[0m\u001b[0mfrom_pretrained\u001b[0m\u001b[0;34m(\u001b[0m\u001b[0mmodel_checkpoint\u001b[0m\u001b[0;34m,\u001b[0m \u001b[0mlocal_files_only\u001b[0m\u001b[0;34m=\u001b[0m\u001b[0;32mTrue\u001b[0m\u001b[0;34m)\u001b[0m\u001b[0;34m\u001b[0m\u001b[0;34m\u001b[0m\u001b[0m\n\u001b[0m",
      "\u001b[0;32m/opt/conda/lib/python3.9/site-packages/transformers/modeling_tf_utils.py\u001b[0m in \u001b[0;36mfrom_pretrained\u001b[0;34m(cls, pretrained_model_name_or_path, *model_args, **kwargs)\u001b[0m\n\u001b[1;32m   1344\u001b[0m         \u001b[0;32mif\u001b[0m \u001b[0;32mnot\u001b[0m \u001b[0misinstance\u001b[0m\u001b[0;34m(\u001b[0m\u001b[0mconfig\u001b[0m\u001b[0;34m,\u001b[0m \u001b[0mPretrainedConfig\u001b[0m\u001b[0;34m)\u001b[0m\u001b[0;34m:\u001b[0m\u001b[0;34m\u001b[0m\u001b[0;34m\u001b[0m\u001b[0m\n\u001b[1;32m   1345\u001b[0m             \u001b[0mconfig_path\u001b[0m \u001b[0;34m=\u001b[0m \u001b[0mconfig\u001b[0m \u001b[0;32mif\u001b[0m \u001b[0mconfig\u001b[0m \u001b[0;32mis\u001b[0m \u001b[0;32mnot\u001b[0m \u001b[0;32mNone\u001b[0m \u001b[0;32melse\u001b[0m \u001b[0mpretrained_model_name_or_path\u001b[0m\u001b[0;34m\u001b[0m\u001b[0;34m\u001b[0m\u001b[0m\n\u001b[0;32m-> 1346\u001b[0;31m             config, model_kwargs = cls.config_class.from_pretrained(\n\u001b[0m\u001b[1;32m   1347\u001b[0m                 \u001b[0mconfig_path\u001b[0m\u001b[0;34m,\u001b[0m\u001b[0;34m\u001b[0m\u001b[0;34m\u001b[0m\u001b[0m\n\u001b[1;32m   1348\u001b[0m                 \u001b[0;34m*\u001b[0m\u001b[0mmodel_args\u001b[0m\u001b[0;34m,\u001b[0m\u001b[0;34m\u001b[0m\u001b[0;34m\u001b[0m\u001b[0m\n",
      "\u001b[0;32m/opt/conda/lib/python3.9/site-packages/transformers/configuration_utils.py\u001b[0m in \u001b[0;36mfrom_pretrained\u001b[0;34m(cls, pretrained_model_name_or_path, **kwargs)\u001b[0m\n\u001b[1;32m    487\u001b[0m \u001b[0;34m\u001b[0m\u001b[0m\n\u001b[1;32m    488\u001b[0m         \"\"\"\n\u001b[0;32m--> 489\u001b[0;31m         \u001b[0mconfig_dict\u001b[0m\u001b[0;34m,\u001b[0m \u001b[0mkwargs\u001b[0m \u001b[0;34m=\u001b[0m \u001b[0mcls\u001b[0m\u001b[0;34m.\u001b[0m\u001b[0mget_config_dict\u001b[0m\u001b[0;34m(\u001b[0m\u001b[0mpretrained_model_name_or_path\u001b[0m\u001b[0;34m,\u001b[0m \u001b[0;34m**\u001b[0m\u001b[0mkwargs\u001b[0m\u001b[0;34m)\u001b[0m\u001b[0;34m\u001b[0m\u001b[0;34m\u001b[0m\u001b[0m\n\u001b[0m\u001b[1;32m    490\u001b[0m         \u001b[0;32mif\u001b[0m \u001b[0;34m\"model_type\"\u001b[0m \u001b[0;32min\u001b[0m \u001b[0mconfig_dict\u001b[0m \u001b[0;32mand\u001b[0m \u001b[0mhasattr\u001b[0m\u001b[0;34m(\u001b[0m\u001b[0mcls\u001b[0m\u001b[0;34m,\u001b[0m \u001b[0;34m\"model_type\"\u001b[0m\u001b[0;34m)\u001b[0m \u001b[0;32mand\u001b[0m \u001b[0mconfig_dict\u001b[0m\u001b[0;34m[\u001b[0m\u001b[0;34m\"model_type\"\u001b[0m\u001b[0;34m]\u001b[0m \u001b[0;34m!=\u001b[0m \u001b[0mcls\u001b[0m\u001b[0;34m.\u001b[0m\u001b[0mmodel_type\u001b[0m\u001b[0;34m:\u001b[0m\u001b[0;34m\u001b[0m\u001b[0;34m\u001b[0m\u001b[0m\n\u001b[1;32m    491\u001b[0m             logger.warn(\n",
      "\u001b[0;32m/opt/conda/lib/python3.9/site-packages/transformers/configuration_utils.py\u001b[0m in \u001b[0;36mget_config_dict\u001b[0;34m(cls, pretrained_model_name_or_path, **kwargs)\u001b[0m\n\u001b[1;32m    568\u001b[0m                 \u001b[0mmsg\u001b[0m \u001b[0;34m+=\u001b[0m \u001b[0;34mf\"- or '{revision}' is a valid git identifier (branch name, a tag name, or a commit id) that exists for this model name as listed on its model page on 'https://huggingface.co/models'\\n\\n\"\u001b[0m\u001b[0;34m\u001b[0m\u001b[0;34m\u001b[0m\u001b[0m\n\u001b[1;32m    569\u001b[0m \u001b[0;34m\u001b[0m\u001b[0m\n\u001b[0;32m--> 570\u001b[0;31m             \u001b[0;32mraise\u001b[0m \u001b[0mEnvironmentError\u001b[0m\u001b[0;34m(\u001b[0m\u001b[0mmsg\u001b[0m\u001b[0;34m)\u001b[0m\u001b[0;34m\u001b[0m\u001b[0;34m\u001b[0m\u001b[0m\n\u001b[0m\u001b[1;32m    571\u001b[0m \u001b[0;34m\u001b[0m\u001b[0m\n\u001b[1;32m    572\u001b[0m         \u001b[0;32mexcept\u001b[0m \u001b[0;34m(\u001b[0m\u001b[0mjson\u001b[0m\u001b[0;34m.\u001b[0m\u001b[0mJSONDecodeError\u001b[0m\u001b[0;34m,\u001b[0m \u001b[0mUnicodeDecodeError\u001b[0m\u001b[0;34m)\u001b[0m\u001b[0;34m:\u001b[0m\u001b[0;34m\u001b[0m\u001b[0;34m\u001b[0m\u001b[0m\n",
      "\u001b[0;31mOSError\u001b[0m: Can't load config for '<keras.callbacks.ModelCheckpoint object at 0x7995130d0a60>'. Make sure that:\n\n- '<keras.callbacks.ModelCheckpoint object at 0x7995130d0a60>' is a correct model identifier listed on 'https://huggingface.co/models'\n\n- or '<keras.callbacks.ModelCheckpoint object at 0x7995130d0a60>' is the correct path to a directory containing a config.json file\n\n"
     ]
    }
   ],
   "source": [
    "model = TFBertModel.from_pretrained(model_checkpoint, local_files_only=True)"
   ]
  },
  {
   "cell_type": "code",
   "execution_count": 42,
   "id": "292f2784",
   "metadata": {},
   "outputs": [],
   "source": [
    "from sklearn.metrics import f1_score"
   ]
  },
  {
   "cell_type": "code",
   "execution_count": 43,
   "id": "b46f3619",
   "metadata": {},
   "outputs": [
    {
     "name": "stdout",
     "output_type": "stream",
     "text": [
      "검증 데이터 F1-score: 0.9161\n"
     ]
    }
   ],
   "source": [
    "# 검증 데이터 예측\n",
    "val_predictions = model.predict({\"input_ids\": val_input_ids, \"attention_mask\": val_attention_mask})\n",
    "predicted_classes = np.argmax(val_predictions, axis=1)  # 확률값을 가장 높은 클래스 인덱스로 변환\n",
    "\n",
    "# F1-score 계산\n",
    "f1 = f1_score(val_labels, predicted_classes, average=\"weighted\")\n",
    "\n",
    "print(f\"검증 데이터 F1-score: {f1:.4f}\")"
   ]
  },
  {
   "cell_type": "code",
   "execution_count": 44,
   "id": "22aa822b",
   "metadata": {},
   "outputs": [],
   "source": [
    "def tokenize_test_texts(texts):\n",
    "    encodings = tokenizer(\n",
    "        list(texts),\n",
    "        padding=\"max_length\",\n",
    "        truncation=True,\n",
    "        max_length=MAX_LEN,\n",
    "        return_tensors=\"tf\"\n",
    "    )\n",
    "    return encodings[\"input_ids\"], encodings[\"attention_mask\"]"
   ]
  },
  {
   "cell_type": "code",
   "execution_count": 45,
   "id": "8cae436f",
   "metadata": {},
   "outputs": [],
   "source": [
    "test_input_ids, test_attention_mask = tokenize_test_texts(test_data['text'])"
   ]
  },
  {
   "cell_type": "code",
   "execution_count": 46,
   "id": "86af0dcb",
   "metadata": {},
   "outputs": [],
   "source": [
    "# 모델 예측 수행\n",
    "predictions = model.predict({\"input_ids\": test_input_ids, \"attention_mask\": test_attention_mask})\n",
    "\n",
    "# 확률값을 가장 높은 클래스 인덱스로 변환\n",
    "predicted_classes = np.argmax(predictions, axis=1)\n",
    "\n",
    "# 결과를 데이터프레임에 추가\n",
    "test_data['target'] = predicted_classes"
   ]
  },
  {
   "cell_type": "code",
   "execution_count": 47,
   "id": "8d48e726",
   "metadata": {
    "scrolled": true
   },
   "outputs": [
    {
     "name": "stdout",
     "output_type": "stream",
     "text": [
      "                                                  text  target\n",
      "0    아가씨 담배한갑주소 네 4500원입니다 어 네 지갑어디갔지 에이 버스에서 잃어버렸나...       1\n",
      "1    우리팀에서 다른팀으로 갈 사람 없나? 그럼 영지씨가 가는건 어때?  네? 제가요? ...       2\n",
      "2    너 오늘 그게 뭐야 네 제가 뭘 잘못했나요.? 제대로 좀 하지 네 똑바로 좀 하지 ...       2\n",
      "3    이거 들어바 와 이 노래 진짜 좋다 그치 요즘 이 것만 들어 진짜 너무 좋다 내가 ...       4\n",
      "4    아무튼 앞으로 니가 내 와이파이야. .응 와이파이 온. 켰어. 반말? 주인님이라고도...       3\n",
      "..                                                 ...     ...\n",
      "495  미나씨 휴가 결제 올리기 전에 저랑 상의하라고 말한거 기억해요? 네 합니다. 보고서...       2\n",
      "496  교수님 제 논문에 제 이름이 없나요?  아 무슨 논문말이야?  지난 번 냈던 논문이...       1\n",
      "497  야 너  네 저요? 그래 너 왜요 돈좀 줘봐  돈 없어요 돈이 왜 없어 지갑은 폼이...       1\n",
      "498  야 너 빨리 안 뛰어와? 너 이 환자 제대로 봤어 안 봤어 어제 저녁부터 계속 보다...       2\n",
      "499  엄마 저 그 돈 안해주시면 정말 큰일나요.  이유도 말하지 않고. 몇번째니 경민아....       0\n",
      "\n",
      "[500 rows x 2 columns]\n"
     ]
    }
   ],
   "source": [
    "# 예측된 결과 출력\n",
    "print(test_data[['text', 'target']])"
   ]
  },
  {
   "cell_type": "code",
   "execution_count": 48,
   "id": "57034c53",
   "metadata": {
    "scrolled": true
   },
   "outputs": [
    {
     "data": {
      "text/html": [
       "<div>\n",
       "<style scoped>\n",
       "    .dataframe tbody tr th:only-of-type {\n",
       "        vertical-align: middle;\n",
       "    }\n",
       "\n",
       "    .dataframe tbody tr th {\n",
       "        vertical-align: top;\n",
       "    }\n",
       "\n",
       "    .dataframe thead th {\n",
       "        text-align: right;\n",
       "    }\n",
       "</style>\n",
       "<table border=\"1\" class=\"dataframe\">\n",
       "  <thead>\n",
       "    <tr style=\"text-align: right;\">\n",
       "      <th></th>\n",
       "      <th>idx</th>\n",
       "      <th>text</th>\n",
       "      <th>target</th>\n",
       "    </tr>\n",
       "  </thead>\n",
       "  <tbody>\n",
       "    <tr>\n",
       "      <th>0</th>\n",
       "      <td>t_000</td>\n",
       "      <td>아가씨 담배한갑주소 네 4500원입니다 어 네 지갑어디갔지 에이 버스에서 잃어버렸나...</td>\n",
       "      <td>1</td>\n",
       "    </tr>\n",
       "    <tr>\n",
       "      <th>1</th>\n",
       "      <td>t_001</td>\n",
       "      <td>우리팀에서 다른팀으로 갈 사람 없나? 그럼 영지씨가 가는건 어때?  네? 제가요? ...</td>\n",
       "      <td>2</td>\n",
       "    </tr>\n",
       "    <tr>\n",
       "      <th>2</th>\n",
       "      <td>t_002</td>\n",
       "      <td>너 오늘 그게 뭐야 네 제가 뭘 잘못했나요.? 제대로 좀 하지 네 똑바로 좀 하지 ...</td>\n",
       "      <td>2</td>\n",
       "    </tr>\n",
       "    <tr>\n",
       "      <th>3</th>\n",
       "      <td>t_003</td>\n",
       "      <td>이거 들어바 와 이 노래 진짜 좋다 그치 요즘 이 것만 들어 진짜 너무 좋다 내가 ...</td>\n",
       "      <td>4</td>\n",
       "    </tr>\n",
       "    <tr>\n",
       "      <th>4</th>\n",
       "      <td>t_004</td>\n",
       "      <td>아무튼 앞으로 니가 내 와이파이야. .응 와이파이 온. 켰어. 반말? 주인님이라고도...</td>\n",
       "      <td>3</td>\n",
       "    </tr>\n",
       "    <tr>\n",
       "      <th>...</th>\n",
       "      <td>...</td>\n",
       "      <td>...</td>\n",
       "      <td>...</td>\n",
       "    </tr>\n",
       "    <tr>\n",
       "      <th>495</th>\n",
       "      <td>t_495</td>\n",
       "      <td>미나씨 휴가 결제 올리기 전에 저랑 상의하라고 말한거 기억해요? 네 합니다. 보고서...</td>\n",
       "      <td>2</td>\n",
       "    </tr>\n",
       "    <tr>\n",
       "      <th>496</th>\n",
       "      <td>t_496</td>\n",
       "      <td>교수님 제 논문에 제 이름이 없나요?  아 무슨 논문말이야?  지난 번 냈던 논문이...</td>\n",
       "      <td>1</td>\n",
       "    </tr>\n",
       "    <tr>\n",
       "      <th>497</th>\n",
       "      <td>t_497</td>\n",
       "      <td>야 너  네 저요? 그래 너 왜요 돈좀 줘봐  돈 없어요 돈이 왜 없어 지갑은 폼이...</td>\n",
       "      <td>1</td>\n",
       "    </tr>\n",
       "    <tr>\n",
       "      <th>498</th>\n",
       "      <td>t_498</td>\n",
       "      <td>야 너 빨리 안 뛰어와? 너 이 환자 제대로 봤어 안 봤어 어제 저녁부터 계속 보다...</td>\n",
       "      <td>2</td>\n",
       "    </tr>\n",
       "    <tr>\n",
       "      <th>499</th>\n",
       "      <td>t_499</td>\n",
       "      <td>엄마 저 그 돈 안해주시면 정말 큰일나요.  이유도 말하지 않고. 몇번째니 경민아....</td>\n",
       "      <td>0</td>\n",
       "    </tr>\n",
       "  </tbody>\n",
       "</table>\n",
       "<p>500 rows × 3 columns</p>\n",
       "</div>"
      ],
      "text/plain": [
       "       idx                                               text  target\n",
       "0    t_000  아가씨 담배한갑주소 네 4500원입니다 어 네 지갑어디갔지 에이 버스에서 잃어버렸나...       1\n",
       "1    t_001  우리팀에서 다른팀으로 갈 사람 없나? 그럼 영지씨가 가는건 어때?  네? 제가요? ...       2\n",
       "2    t_002  너 오늘 그게 뭐야 네 제가 뭘 잘못했나요.? 제대로 좀 하지 네 똑바로 좀 하지 ...       2\n",
       "3    t_003  이거 들어바 와 이 노래 진짜 좋다 그치 요즘 이 것만 들어 진짜 너무 좋다 내가 ...       4\n",
       "4    t_004  아무튼 앞으로 니가 내 와이파이야. .응 와이파이 온. 켰어. 반말? 주인님이라고도...       3\n",
       "..     ...                                                ...     ...\n",
       "495  t_495  미나씨 휴가 결제 올리기 전에 저랑 상의하라고 말한거 기억해요? 네 합니다. 보고서...       2\n",
       "496  t_496  교수님 제 논문에 제 이름이 없나요?  아 무슨 논문말이야?  지난 번 냈던 논문이...       1\n",
       "497  t_497  야 너  네 저요? 그래 너 왜요 돈좀 줘봐  돈 없어요 돈이 왜 없어 지갑은 폼이...       1\n",
       "498  t_498  야 너 빨리 안 뛰어와? 너 이 환자 제대로 봤어 안 봤어 어제 저녁부터 계속 보다...       2\n",
       "499  t_499  엄마 저 그 돈 안해주시면 정말 큰일나요.  이유도 말하지 않고. 몇번째니 경민아....       0\n",
       "\n",
       "[500 rows x 3 columns]"
      ]
     },
     "execution_count": 48,
     "metadata": {},
     "output_type": "execute_result"
    }
   ],
   "source": [
    "test_data"
   ]
  },
  {
   "cell_type": "code",
   "execution_count": 49,
   "id": "1445db24",
   "metadata": {},
   "outputs": [],
   "source": [
    "# CSV로 저장\n",
    "test_data[['idx', 'target']].to_csv(\"submission_kobert_testB_ep2_preprocessing_dr04.csv\", index=False)"
   ]
  },
  {
   "cell_type": "code",
   "execution_count": 50,
   "id": "0c8b245e",
   "metadata": {
    "scrolled": true
   },
   "outputs": [
    {
     "data": {
      "text/plain": [
       "3    158\n",
       "1    115\n",
       "2    115\n",
       "0    102\n",
       "4     10\n",
       "Name: target, dtype: int64"
      ]
     },
     "execution_count": 50,
     "metadata": {},
     "output_type": "execute_result"
    }
   ],
   "source": [
    "test_data['target'].value_counts()"
   ]
  },
  {
   "cell_type": "code",
   "execution_count": 51,
   "id": "9f47f7cd",
   "metadata": {},
   "outputs": [
    {
     "data": {
      "text/html": [
       "<div>\n",
       "<style scoped>\n",
       "    .dataframe tbody tr th:only-of-type {\n",
       "        vertical-align: middle;\n",
       "    }\n",
       "\n",
       "    .dataframe tbody tr th {\n",
       "        vertical-align: top;\n",
       "    }\n",
       "\n",
       "    .dataframe thead th {\n",
       "        text-align: right;\n",
       "    }\n",
       "</style>\n",
       "<table border=\"1\" class=\"dataframe\">\n",
       "  <thead>\n",
       "    <tr style=\"text-align: right;\">\n",
       "      <th></th>\n",
       "      <th>idx</th>\n",
       "      <th>text</th>\n",
       "      <th>target</th>\n",
       "    </tr>\n",
       "  </thead>\n",
       "  <tbody>\n",
       "    <tr>\n",
       "      <th>3</th>\n",
       "      <td>t_003</td>\n",
       "      <td>이거 들어바 와 이 노래 진짜 좋다 그치 요즘 이 것만 들어 진짜 너무 좋다 내가 ...</td>\n",
       "      <td>4</td>\n",
       "    </tr>\n",
       "    <tr>\n",
       "      <th>57</th>\n",
       "      <td>t_057</td>\n",
       "      <td>아니 진짜 걍 지구 망할 거 같아 위쪽은 비 난리고 밑에는 비는 안 와도 공기 난...</td>\n",
       "      <td>4</td>\n",
       "    </tr>\n",
       "    <tr>\n",
       "      <th>82</th>\n",
       "      <td>t_082</td>\n",
       "      <td>천안 두정동 제이빌라 인데요, 지금 화재가 발생했어요. 빌라 어디에 불이 났나요? ...</td>\n",
       "      <td>4</td>\n",
       "    </tr>\n",
       "    <tr>\n",
       "      <th>152</th>\n",
       "      <td>t_152</td>\n",
       "      <td>시신을 발견했습니다. 위치가 어디시죠? 인천 영흥도인근 해상인데요, 검은색 옷을 입...</td>\n",
       "      <td>4</td>\n",
       "    </tr>\n",
       "    <tr>\n",
       "      <th>162</th>\n",
       "      <td>t_162</td>\n",
       "      <td>회사에서 성희롱 타깃이 된 것 같아서 우울해. 직장 내 성희롱 때문에 우울하시군요....</td>\n",
       "      <td>4</td>\n",
       "    </tr>\n",
       "    <tr>\n",
       "      <th>221</th>\n",
       "      <td>t_221</td>\n",
       "      <td>좋은 아침입니다. 이동진 대표님. 좋은 아침. 밖에 비가 꽤 많이 오던데, 출근하시...</td>\n",
       "      <td>4</td>\n",
       "    </tr>\n",
       "    <tr>\n",
       "      <th>244</th>\n",
       "      <td>t_244</td>\n",
       "      <td>토요일 오빠혼자해야하자나 구럼 금요일 저녁에 오것지 엄마 일단 금요일은 내가해욤 그...</td>\n",
       "      <td>4</td>\n",
       "    </tr>\n",
       "    <tr>\n",
       "      <th>468</th>\n",
       "      <td>t_468</td>\n",
       "      <td>시험에 자신이 없어서 일부러 아픈 척을 하고 학교를 안 갔어. 해방감이 들었어. 시...</td>\n",
       "      <td>4</td>\n",
       "    </tr>\n",
       "    <tr>\n",
       "      <th>487</th>\n",
       "      <td>t_487</td>\n",
       "      <td>저녁 먹었어 아니 오늘 뭐먹을까 오늘 집에서 라면 먹자 무슨 라면 먹을건데 열라면에...</td>\n",
       "      <td>4</td>\n",
       "    </tr>\n",
       "    <tr>\n",
       "      <th>491</th>\n",
       "      <td>t_491</td>\n",
       "      <td>양재 터널 입구 앞인데요. 사고가 났거든요? 위치가 양재 터널 맞으시죠? 네, 지금...</td>\n",
       "      <td>4</td>\n",
       "    </tr>\n",
       "  </tbody>\n",
       "</table>\n",
       "</div>"
      ],
      "text/plain": [
       "       idx                                               text  target\n",
       "3    t_003  이거 들어바 와 이 노래 진짜 좋다 그치 요즘 이 것만 들어 진짜 너무 좋다 내가 ...       4\n",
       "57   t_057   아니 진짜 걍 지구 망할 거 같아 위쪽은 비 난리고 밑에는 비는 안 와도 공기 난...       4\n",
       "82   t_082  천안 두정동 제이빌라 인데요, 지금 화재가 발생했어요. 빌라 어디에 불이 났나요? ...       4\n",
       "152  t_152  시신을 발견했습니다. 위치가 어디시죠? 인천 영흥도인근 해상인데요, 검은색 옷을 입...       4\n",
       "162  t_162  회사에서 성희롱 타깃이 된 것 같아서 우울해. 직장 내 성희롱 때문에 우울하시군요....       4\n",
       "221  t_221  좋은 아침입니다. 이동진 대표님. 좋은 아침. 밖에 비가 꽤 많이 오던데, 출근하시...       4\n",
       "244  t_244  토요일 오빠혼자해야하자나 구럼 금요일 저녁에 오것지 엄마 일단 금요일은 내가해욤 그...       4\n",
       "468  t_468  시험에 자신이 없어서 일부러 아픈 척을 하고 학교를 안 갔어. 해방감이 들었어. 시...       4\n",
       "487  t_487  저녁 먹었어 아니 오늘 뭐먹을까 오늘 집에서 라면 먹자 무슨 라면 먹을건데 열라면에...       4\n",
       "491  t_491  양재 터널 입구 앞인데요. 사고가 났거든요? 위치가 양재 터널 맞으시죠? 네, 지금...       4"
      ]
     },
     "execution_count": 51,
     "metadata": {},
     "output_type": "execute_result"
    }
   ],
   "source": [
    "test_data[test_data['target'] == 4]"
   ]
  },
  {
   "cell_type": "code",
   "execution_count": 52,
   "id": "db88a4cb",
   "metadata": {
    "scrolled": false
   },
   "outputs": [
    {
     "data": {
      "text/html": [
       "<div>\n",
       "<style scoped>\n",
       "    .dataframe tbody tr th:only-of-type {\n",
       "        vertical-align: middle;\n",
       "    }\n",
       "\n",
       "    .dataframe tbody tr th {\n",
       "        vertical-align: top;\n",
       "    }\n",
       "\n",
       "    .dataframe thead th {\n",
       "        text-align: right;\n",
       "    }\n",
       "</style>\n",
       "<table border=\"1\" class=\"dataframe\">\n",
       "  <thead>\n",
       "    <tr style=\"text-align: right;\">\n",
       "      <th></th>\n",
       "      <th>idx</th>\n",
       "      <th>text</th>\n",
       "      <th>target</th>\n",
       "    </tr>\n",
       "  </thead>\n",
       "  <tbody>\n",
       "    <tr>\n",
       "      <th>3</th>\n",
       "      <td>t_003</td>\n",
       "      <td>이거 들어바 와 이 노래 진짜 좋다 그치 요즘 이 것만 들어 진짜 너무 좋다 내가 요즘 듣는 것도 들어봐 음 난 좀 별론데 좋을 줄 알았는데 아쉽네 내 취향은 아닌 듯 배고프다 밥이나 먹으러 가자 그래</td>\n",
       "      <td>4</td>\n",
       "    </tr>\n",
       "    <tr>\n",
       "      <th>57</th>\n",
       "      <td>t_057</td>\n",
       "      <td>아니 진짜 걍 지구 망할 거 같아 위쪽은 비 난리고 밑에는 비는 안 와도 공기 난리고 이제 또 비오는 너무 많이와 진짜 망할려고이러나  그러게 말이여 진짜 몇년 전부터 미세먼지도 난리고 원래는 봄에만 황사처럼 공기 안 좋았잖아 근데 요즘엔 걍 사계절 내내 안 좋으니까 약간 더 무서운 건 또 거기에 다 적응한 거임  일단 나부터 적응 다함 공기 안 좋은 거 그러려니해 아 개인정  어쩌다 이렇게 됐는지 진짜 예전이 그립다 초딩 때라던가 그냥 벌받는거 같기두 하구 마잡 그래서 나 늦은 감 있지만  이제라도 일회용 줄이려고 뭔가 이젠 다들 좀 경각심 느껴야 할 거 같음\\n</td>\n",
       "      <td>4</td>\n",
       "    </tr>\n",
       "    <tr>\n",
       "      <th>82</th>\n",
       "      <td>t_082</td>\n",
       "      <td>천안 두정동 제이빌라 인데요, 지금 화재가 발생했어요. 빌라 어디에 불이 났나요? 1층 주차장에서 불이 나고 있어요. 그러면 지금 다친 사람도 있나요? 아직까지는 없는거 같아요. 알겠습니다. 지금 119 소방대를 보내도록 하겠습니다.</td>\n",
       "      <td>4</td>\n",
       "    </tr>\n",
       "    <tr>\n",
       "      <th>152</th>\n",
       "      <td>t_152</td>\n",
       "      <td>시신을 발견했습니다. 위치가 어디시죠? 인천 영흥도인근 해상인데요, 검은색 옷을 입은 남자가 떠있는것을 발견했어요. 그럼 가까운 지상으로 시신을 가져와주실수 있나요? 네 영흥도 부둣가로 갈게요 알겠습니다.</td>\n",
       "      <td>4</td>\n",
       "    </tr>\n",
       "    <tr>\n",
       "      <th>162</th>\n",
       "      <td>t_162</td>\n",
       "      <td>회사에서 성희롱 타깃이 된 것 같아서 우울해. 직장 내 성희롱 때문에 우울하시군요. 좀 더 이야기 해 주시겠어요? 다른 직원들이 옆자리 직원을 성희롱 하는 게 보여서 도와줬더니 이번엔 내가 타깃이 되었어. 어떻게 하면 성희롱 문제를 해결할 수 있을까요? 내일 직장 내 성희롱 관련 담당자를 찾아가봐야겠어. 일이 잘 풀려서 우울한 기분이 나아지면 좋겠어요.</td>\n",
       "      <td>4</td>\n",
       "    </tr>\n",
       "    <tr>\n",
       "      <th>221</th>\n",
       "      <td>t_221</td>\n",
       "      <td>좋은 아침입니다. 이동진 대표님. 좋은 아침. 밖에 비가 꽤 많이 오던데, 출근하시는데 고생 많이 하셨을 거 같습니다. 그래도 무사히 왔잖아. 괜찮아. 다행입니다. 회의는 언제 시작해? 곧 회의 시작할 것 같습니다. 좋은 아침입니다. 이동진 대표님. 좋은 아침. 밖에 비가 꽤 많이 오던데, 출근하시는데 고생 많이 하셨을 거 같습니다. 그래도 무사히 왔잖아. 괜찮아. 다행입니다. 회의는 언제 시작해? 곧 회의 시작할 것 같습니다.</td>\n",
       "      <td>4</td>\n",
       "    </tr>\n",
       "    <tr>\n",
       "      <th>244</th>\n",
       "      <td>t_244</td>\n",
       "      <td>토요일 오빠혼자해야하자나 구럼 금요일 저녁에 오것지 엄마 일단 금요일은 내가해욤 그래 오늘 내일 아무도 없음 금요일 머가 아무도없덩 사람 집에 엥 그오빠도 다 감 시골  뭐 오빤 더 좋은거지\\n</td>\n",
       "      <td>4</td>\n",
       "    </tr>\n",
       "    <tr>\n",
       "      <th>468</th>\n",
       "      <td>t_468</td>\n",
       "      <td>시험에 자신이 없어서 일부러 아픈 척을 하고 학교를 안 갔어. 해방감이 들었어. 시험을 안 봐서 기분이 좋으시군요. 지금까지 시험이 나를 얼마나 옭아맸는지 알게 돼서 한국의 시험 문화에 화가 나. 화나는 감정이 나아지려면 어떻게 해야 할까요? 한국 시험 문화에 대한 분노를 시험을 대하는 즐거움으로 변화시켜야겠어. 목표대로 시험을 즐겁게 느낄 수 있게 되길 바라요.</td>\n",
       "      <td>4</td>\n",
       "    </tr>\n",
       "    <tr>\n",
       "      <th>487</th>\n",
       "      <td>t_487</td>\n",
       "      <td>저녁 먹었어 아니 오늘 뭐먹을까 오늘 집에서 라면 먹자 무슨 라면 먹을건데 열라면에 순두부 넣어먹는게 맛있대 진짜 맛있어 내 친구가 꼭 먹으래 와 그러면 오늘 꼭 먹어보자 내가 순두부랑 열라면 사갈게 그래그래 오늘 늦지 말고 들어와 응 알았어</td>\n",
       "      <td>4</td>\n",
       "    </tr>\n",
       "    <tr>\n",
       "      <th>491</th>\n",
       "      <td>t_491</td>\n",
       "      <td>양재 터널 입구 앞인데요. 사고가 났거든요? 위치가 양재 터널 맞으시죠? 네, 지금 버스가 승용차 한대를 덮쳤어요. 버스가 승용차를 덮쳤다고요 지금 사고가 일어난건가요? 네 운전자 분은 괜찮으세요? 워낙 사고가 크게나서 잘 모르겠어요. 알겠습니다.</td>\n",
       "      <td>4</td>\n",
       "    </tr>\n",
       "  </tbody>\n",
       "</table>\n",
       "</div>"
      ],
      "text/plain": [
       "       idx  \\\n",
       "3    t_003   \n",
       "57   t_057   \n",
       "82   t_082   \n",
       "152  t_152   \n",
       "162  t_162   \n",
       "221  t_221   \n",
       "244  t_244   \n",
       "468  t_468   \n",
       "487  t_487   \n",
       "491  t_491   \n",
       "\n",
       "                                                                                                                                                                                                                                                                                                                                 text  \\\n",
       "3                                                                                                                                                                                                                    이거 들어바 와 이 노래 진짜 좋다 그치 요즘 이 것만 들어 진짜 너무 좋다 내가 요즘 듣는 것도 들어봐 음 난 좀 별론데 좋을 줄 알았는데 아쉽네 내 취향은 아닌 듯 배고프다 밥이나 먹으러 가자 그래   \n",
       "57    아니 진짜 걍 지구 망할 거 같아 위쪽은 비 난리고 밑에는 비는 안 와도 공기 난리고 이제 또 비오는 너무 많이와 진짜 망할려고이러나  그러게 말이여 진짜 몇년 전부터 미세먼지도 난리고 원래는 봄에만 황사처럼 공기 안 좋았잖아 근데 요즘엔 걍 사계절 내내 안 좋으니까 약간 더 무서운 건 또 거기에 다 적응한 거임  일단 나부터 적응 다함 공기 안 좋은 거 그러려니해 아 개인정  어쩌다 이렇게 됐는지 진짜 예전이 그립다 초딩 때라던가 그냥 벌받는거 같기두 하구 마잡 그래서 나 늦은 감 있지만  이제라도 일회용 줄이려고 뭔가 이젠 다들 좀 경각심 느껴야 할 거 같음\\n   \n",
       "82                                                                                                                                                                                                 천안 두정동 제이빌라 인데요, 지금 화재가 발생했어요. 빌라 어디에 불이 났나요? 1층 주차장에서 불이 나고 있어요. 그러면 지금 다친 사람도 있나요? 아직까지는 없는거 같아요. 알겠습니다. 지금 119 소방대를 보내도록 하겠습니다.   \n",
       "152                                                                                                                                                                                                                시신을 발견했습니다. 위치가 어디시죠? 인천 영흥도인근 해상인데요, 검은색 옷을 입은 남자가 떠있는것을 발견했어요. 그럼 가까운 지상으로 시신을 가져와주실수 있나요? 네 영흥도 부둣가로 갈게요 알겠습니다.   \n",
       "162                                                                                                                            회사에서 성희롱 타깃이 된 것 같아서 우울해. 직장 내 성희롱 때문에 우울하시군요. 좀 더 이야기 해 주시겠어요? 다른 직원들이 옆자리 직원을 성희롱 하는 게 보여서 도와줬더니 이번엔 내가 타깃이 되었어. 어떻게 하면 성희롱 문제를 해결할 수 있을까요? 내일 직장 내 성희롱 관련 담당자를 찾아가봐야겠어. 일이 잘 풀려서 우울한 기분이 나아지면 좋겠어요.   \n",
       "221                                                                                 좋은 아침입니다. 이동진 대표님. 좋은 아침. 밖에 비가 꽤 많이 오던데, 출근하시는데 고생 많이 하셨을 거 같습니다. 그래도 무사히 왔잖아. 괜찮아. 다행입니다. 회의는 언제 시작해? 곧 회의 시작할 것 같습니다. 좋은 아침입니다. 이동진 대표님. 좋은 아침. 밖에 비가 꽤 많이 오던데, 출근하시는데 고생 많이 하셨을 거 같습니다. 그래도 무사히 왔잖아. 괜찮아. 다행입니다. 회의는 언제 시작해? 곧 회의 시작할 것 같습니다.   \n",
       "244                                                                                                                                                                                                                      토요일 오빠혼자해야하자나 구럼 금요일 저녁에 오것지 엄마 일단 금요일은 내가해욤 그래 오늘 내일 아무도 없음 금요일 머가 아무도없덩 사람 집에 엥 그오빠도 다 감 시골  뭐 오빤 더 좋은거지\\n   \n",
       "468                                                                                                                      시험에 자신이 없어서 일부러 아픈 척을 하고 학교를 안 갔어. 해방감이 들었어. 시험을 안 봐서 기분이 좋으시군요. 지금까지 시험이 나를 얼마나 옭아맸는지 알게 돼서 한국의 시험 문화에 화가 나. 화나는 감정이 나아지려면 어떻게 해야 할까요? 한국 시험 문화에 대한 분노를 시험을 대하는 즐거움으로 변화시켜야겠어. 목표대로 시험을 즐겁게 느낄 수 있게 되길 바라요.   \n",
       "487                                                                                                                                                                                           저녁 먹었어 아니 오늘 뭐먹을까 오늘 집에서 라면 먹자 무슨 라면 먹을건데 열라면에 순두부 넣어먹는게 맛있대 진짜 맛있어 내 친구가 꼭 먹으래 와 그러면 오늘 꼭 먹어보자 내가 순두부랑 열라면 사갈게 그래그래 오늘 늦지 말고 들어와 응 알았어   \n",
       "491                                                                                                                                                                                        양재 터널 입구 앞인데요. 사고가 났거든요? 위치가 양재 터널 맞으시죠? 네, 지금 버스가 승용차 한대를 덮쳤어요. 버스가 승용차를 덮쳤다고요 지금 사고가 일어난건가요? 네 운전자 분은 괜찮으세요? 워낙 사고가 크게나서 잘 모르겠어요. 알겠습니다.   \n",
       "\n",
       "     target  \n",
       "3         4  \n",
       "57        4  \n",
       "82        4  \n",
       "152       4  \n",
       "162       4  \n",
       "221       4  \n",
       "244       4  \n",
       "468       4  \n",
       "487       4  \n",
       "491       4  "
      ]
     },
     "metadata": {},
     "output_type": "display_data"
    }
   ],
   "source": [
    "# 긴 텍스트 출력 제한 해제\n",
    "pd.options.display.max_colwidth = None  \n",
    "# 예측된 결과 출력\n",
    "display(test_data[test_data['target'] == 4])"
   ]
  },
  {
   "cell_type": "code",
   "execution_count": 60,
   "id": "ae20f877",
   "metadata": {},
   "outputs": [],
   "source": [
    "pd = pd.read_csv('submission_kobert_testB_ep1_preprocessing.csv')\n"
   ]
  },
  {
   "cell_type": "code",
   "execution_count": 61,
   "id": "1cb03966",
   "metadata": {},
   "outputs": [
    {
     "data": {
      "text/plain": [
       "0    136\n",
       "3    124\n",
       "2    116\n",
       "1     99\n",
       "4     25\n",
       "Name: target, dtype: int64"
      ]
     },
     "execution_count": 61,
     "metadata": {},
     "output_type": "execute_result"
    }
   ],
   "source": [
    "pd['target'].value_counts()"
   ]
  },
  {
   "cell_type": "code",
   "execution_count": null,
   "id": "5474e713",
   "metadata": {},
   "outputs": [],
   "source": []
  }
 ],
 "metadata": {
  "kernelspec": {
   "display_name": "Python 3 (ipykernel)",
   "language": "python",
   "name": "python3"
  },
  "language_info": {
   "codemirror_mode": {
    "name": "ipython",
    "version": 3
   },
   "file_extension": ".py",
   "mimetype": "text/x-python",
   "name": "python",
   "nbconvert_exporter": "python",
   "pygments_lexer": "ipython3",
   "version": "3.9.7"
  }
 },
 "nbformat": 4,
 "nbformat_minor": 5
}
